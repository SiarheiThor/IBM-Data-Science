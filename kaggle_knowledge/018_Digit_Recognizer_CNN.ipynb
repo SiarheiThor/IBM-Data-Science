{
  "nbformat": 4,
  "nbformat_minor": 0,
  "metadata": {
    "colab": {
      "provenance": [],
      "authorship_tag": "ABX9TyMgVtmTOAAkC7Fj93vs7mt+",
      "include_colab_link": true
    },
    "kernelspec": {
      "name": "python3",
      "display_name": "Python 3"
    },
    "language_info": {
      "name": "python"
    },
    "accelerator": "GPU",
    "gpuClass": "standard"
  },
  "cells": [
    {
      "cell_type": "markdown",
      "metadata": {
        "id": "view-in-github",
        "colab_type": "text"
      },
      "source": [
        "<a href=\"https://colab.research.google.com/github/SiarheiThor/IBM-Data-Science/blob/main/kaggle_knowledge/018_Digit_Recognizer_CNN.ipynb\" target=\"_parent\"><img src=\"https://colab.research.google.com/assets/colab-badge.svg\" alt=\"Open In Colab\"/></a>"
      ]
    },
    {
      "cell_type": "code",
      "execution_count": null,
      "metadata": {
        "colab": {
          "base_uri": "https://localhost:8080/"
        },
        "id": "ZYHwkpswmv5u",
        "outputId": "71ce5452-8add-41a2-b4ff-181574368694"
      },
      "outputs": [
        {
          "output_type": "stream",
          "name": "stdout",
          "text": [
            "Looking in indexes: https://pypi.org/simple, https://us-python.pkg.dev/colab-wheels/public/simple/\n",
            "Requirement already satisfied: kaggle in /usr/local/lib/python3.8/dist-packages (1.5.12)\n",
            "Requirement already satisfied: certifi in /usr/local/lib/python3.8/dist-packages (from kaggle) (2022.12.7)\n",
            "Requirement already satisfied: six>=1.10 in /usr/local/lib/python3.8/dist-packages (from kaggle) (1.15.0)\n",
            "Requirement already satisfied: python-dateutil in /usr/local/lib/python3.8/dist-packages (from kaggle) (2.8.2)\n",
            "Requirement already satisfied: requests in /usr/local/lib/python3.8/dist-packages (from kaggle) (2.25.1)\n",
            "Requirement already satisfied: tqdm in /usr/local/lib/python3.8/dist-packages (from kaggle) (4.64.1)\n",
            "Requirement already satisfied: python-slugify in /usr/local/lib/python3.8/dist-packages (from kaggle) (8.0.0)\n",
            "Requirement already satisfied: urllib3 in /usr/local/lib/python3.8/dist-packages (from kaggle) (1.24.3)\n",
            "Requirement already satisfied: text-unidecode>=1.3 in /usr/local/lib/python3.8/dist-packages (from python-slugify->kaggle) (1.3)\n",
            "Requirement already satisfied: chardet<5,>=3.0.2 in /usr/local/lib/python3.8/dist-packages (from requests->kaggle) (4.0.0)\n",
            "Requirement already satisfied: idna<3,>=2.5 in /usr/local/lib/python3.8/dist-packages (from requests->kaggle) (2.10)\n"
          ]
        }
      ],
      "source": [
        "! pip install kaggle"
      ]
    },
    {
      "cell_type": "code",
      "source": [
        "from google.colab import files\n",
        "files.upload()"
      ],
      "metadata": {
        "colab": {
          "base_uri": "https://localhost:8080/",
          "height": 92
        },
        "id": "J-dLyZ3qnGSb",
        "outputId": "133fd077-4094-4533-825c-188f61926eb3"
      },
      "execution_count": null,
      "outputs": [
        {
          "output_type": "display_data",
          "data": {
            "text/plain": [
              "<IPython.core.display.HTML object>"
            ],
            "text/html": [
              "\n",
              "     <input type=\"file\" id=\"files-09f0efd0-1495-4417-a43d-026179787bd8\" name=\"files[]\" multiple disabled\n",
              "        style=\"border:none\" />\n",
              "     <output id=\"result-09f0efd0-1495-4417-a43d-026179787bd8\">\n",
              "      Upload widget is only available when the cell has been executed in the\n",
              "      current browser session. Please rerun this cell to enable.\n",
              "      </output>\n",
              "      <script>// Copyright 2017 Google LLC\n",
              "//\n",
              "// Licensed under the Apache License, Version 2.0 (the \"License\");\n",
              "// you may not use this file except in compliance with the License.\n",
              "// You may obtain a copy of the License at\n",
              "//\n",
              "//      http://www.apache.org/licenses/LICENSE-2.0\n",
              "//\n",
              "// Unless required by applicable law or agreed to in writing, software\n",
              "// distributed under the License is distributed on an \"AS IS\" BASIS,\n",
              "// WITHOUT WARRANTIES OR CONDITIONS OF ANY KIND, either express or implied.\n",
              "// See the License for the specific language governing permissions and\n",
              "// limitations under the License.\n",
              "\n",
              "/**\n",
              " * @fileoverview Helpers for google.colab Python module.\n",
              " */\n",
              "(function(scope) {\n",
              "function span(text, styleAttributes = {}) {\n",
              "  const element = document.createElement('span');\n",
              "  element.textContent = text;\n",
              "  for (const key of Object.keys(styleAttributes)) {\n",
              "    element.style[key] = styleAttributes[key];\n",
              "  }\n",
              "  return element;\n",
              "}\n",
              "\n",
              "// Max number of bytes which will be uploaded at a time.\n",
              "const MAX_PAYLOAD_SIZE = 100 * 1024;\n",
              "\n",
              "function _uploadFiles(inputId, outputId) {\n",
              "  const steps = uploadFilesStep(inputId, outputId);\n",
              "  const outputElement = document.getElementById(outputId);\n",
              "  // Cache steps on the outputElement to make it available for the next call\n",
              "  // to uploadFilesContinue from Python.\n",
              "  outputElement.steps = steps;\n",
              "\n",
              "  return _uploadFilesContinue(outputId);\n",
              "}\n",
              "\n",
              "// This is roughly an async generator (not supported in the browser yet),\n",
              "// where there are multiple asynchronous steps and the Python side is going\n",
              "// to poll for completion of each step.\n",
              "// This uses a Promise to block the python side on completion of each step,\n",
              "// then passes the result of the previous step as the input to the next step.\n",
              "function _uploadFilesContinue(outputId) {\n",
              "  const outputElement = document.getElementById(outputId);\n",
              "  const steps = outputElement.steps;\n",
              "\n",
              "  const next = steps.next(outputElement.lastPromiseValue);\n",
              "  return Promise.resolve(next.value.promise).then((value) => {\n",
              "    // Cache the last promise value to make it available to the next\n",
              "    // step of the generator.\n",
              "    outputElement.lastPromiseValue = value;\n",
              "    return next.value.response;\n",
              "  });\n",
              "}\n",
              "\n",
              "/**\n",
              " * Generator function which is called between each async step of the upload\n",
              " * process.\n",
              " * @param {string} inputId Element ID of the input file picker element.\n",
              " * @param {string} outputId Element ID of the output display.\n",
              " * @return {!Iterable<!Object>} Iterable of next steps.\n",
              " */\n",
              "function* uploadFilesStep(inputId, outputId) {\n",
              "  const inputElement = document.getElementById(inputId);\n",
              "  inputElement.disabled = false;\n",
              "\n",
              "  const outputElement = document.getElementById(outputId);\n",
              "  outputElement.innerHTML = '';\n",
              "\n",
              "  const pickedPromise = new Promise((resolve) => {\n",
              "    inputElement.addEventListener('change', (e) => {\n",
              "      resolve(e.target.files);\n",
              "    });\n",
              "  });\n",
              "\n",
              "  const cancel = document.createElement('button');\n",
              "  inputElement.parentElement.appendChild(cancel);\n",
              "  cancel.textContent = 'Cancel upload';\n",
              "  const cancelPromise = new Promise((resolve) => {\n",
              "    cancel.onclick = () => {\n",
              "      resolve(null);\n",
              "    };\n",
              "  });\n",
              "\n",
              "  // Wait for the user to pick the files.\n",
              "  const files = yield {\n",
              "    promise: Promise.race([pickedPromise, cancelPromise]),\n",
              "    response: {\n",
              "      action: 'starting',\n",
              "    }\n",
              "  };\n",
              "\n",
              "  cancel.remove();\n",
              "\n",
              "  // Disable the input element since further picks are not allowed.\n",
              "  inputElement.disabled = true;\n",
              "\n",
              "  if (!files) {\n",
              "    return {\n",
              "      response: {\n",
              "        action: 'complete',\n",
              "      }\n",
              "    };\n",
              "  }\n",
              "\n",
              "  for (const file of files) {\n",
              "    const li = document.createElement('li');\n",
              "    li.append(span(file.name, {fontWeight: 'bold'}));\n",
              "    li.append(span(\n",
              "        `(${file.type || 'n/a'}) - ${file.size} bytes, ` +\n",
              "        `last modified: ${\n",
              "            file.lastModifiedDate ? file.lastModifiedDate.toLocaleDateString() :\n",
              "                                    'n/a'} - `));\n",
              "    const percent = span('0% done');\n",
              "    li.appendChild(percent);\n",
              "\n",
              "    outputElement.appendChild(li);\n",
              "\n",
              "    const fileDataPromise = new Promise((resolve) => {\n",
              "      const reader = new FileReader();\n",
              "      reader.onload = (e) => {\n",
              "        resolve(e.target.result);\n",
              "      };\n",
              "      reader.readAsArrayBuffer(file);\n",
              "    });\n",
              "    // Wait for the data to be ready.\n",
              "    let fileData = yield {\n",
              "      promise: fileDataPromise,\n",
              "      response: {\n",
              "        action: 'continue',\n",
              "      }\n",
              "    };\n",
              "\n",
              "    // Use a chunked sending to avoid message size limits. See b/62115660.\n",
              "    let position = 0;\n",
              "    do {\n",
              "      const length = Math.min(fileData.byteLength - position, MAX_PAYLOAD_SIZE);\n",
              "      const chunk = new Uint8Array(fileData, position, length);\n",
              "      position += length;\n",
              "\n",
              "      const base64 = btoa(String.fromCharCode.apply(null, chunk));\n",
              "      yield {\n",
              "        response: {\n",
              "          action: 'append',\n",
              "          file: file.name,\n",
              "          data: base64,\n",
              "        },\n",
              "      };\n",
              "\n",
              "      let percentDone = fileData.byteLength === 0 ?\n",
              "          100 :\n",
              "          Math.round((position / fileData.byteLength) * 100);\n",
              "      percent.textContent = `${percentDone}% done`;\n",
              "\n",
              "    } while (position < fileData.byteLength);\n",
              "  }\n",
              "\n",
              "  // All done.\n",
              "  yield {\n",
              "    response: {\n",
              "      action: 'complete',\n",
              "    }\n",
              "  };\n",
              "}\n",
              "\n",
              "scope.google = scope.google || {};\n",
              "scope.google.colab = scope.google.colab || {};\n",
              "scope.google.colab._files = {\n",
              "  _uploadFiles,\n",
              "  _uploadFilesContinue,\n",
              "};\n",
              "})(self);\n",
              "</script> "
            ]
          },
          "metadata": {}
        },
        {
          "output_type": "stream",
          "name": "stdout",
          "text": [
            "Saving kaggle.json to kaggle.json\n"
          ]
        },
        {
          "output_type": "execute_result",
          "data": {
            "text/plain": [
              "{'kaggle.json': b'{\"username\":\"sergeyfedatsenka\",\"key\":\"5eca23f782a35f03af3b3a9ad74e400a\"}'}"
            ]
          },
          "metadata": {},
          "execution_count": 2
        }
      ]
    },
    {
      "cell_type": "code",
      "source": [
        "!mkdir ~/.kaggle\n",
        "!cp kaggle.json ~/.kaggle/\n",
        "!chmod 600 ~/.kaggle/kaggle.json"
      ],
      "metadata": {
        "id": "Ul5rb1EnnSb3"
      },
      "execution_count": null,
      "outputs": []
    },
    {
      "cell_type": "code",
      "source": [
        "!kaggle competitions download -c digit-recognizer"
      ],
      "metadata": {
        "colab": {
          "base_uri": "https://localhost:8080/"
        },
        "id": "djnky8l_nU2W",
        "outputId": "e689c206-2101-47a8-cf05-9ae0120f2e4e"
      },
      "execution_count": null,
      "outputs": [
        {
          "output_type": "stream",
          "name": "stdout",
          "text": [
            "Downloading digit-recognizer.zip to /content\n",
            " 33% 5.00M/15.3M [00:00<00:00, 47.8MB/s]\n",
            "100% 15.3M/15.3M [00:00<00:00, 101MB/s] \n"
          ]
        }
      ]
    },
    {
      "cell_type": "code",
      "source": [
        "! unzip digit-recognizer.zip"
      ],
      "metadata": {
        "colab": {
          "base_uri": "https://localhost:8080/"
        },
        "id": "T2LElmd6neZ3",
        "outputId": "89414d3d-5b7d-409e-a535-c996ca29e9fa"
      },
      "execution_count": null,
      "outputs": [
        {
          "output_type": "stream",
          "name": "stdout",
          "text": [
            "Archive:  digit-recognizer.zip\n",
            "  inflating: sample_submission.csv   \n",
            "  inflating: test.csv                \n",
            "  inflating: train.csv               \n"
          ]
        }
      ]
    },
    {
      "cell_type": "markdown",
      "source": [
        "### Importing the libraries"
      ],
      "metadata": {
        "id": "H7OzTkoMoU92"
      }
    },
    {
      "cell_type": "code",
      "source": [
        "import numpy as np\n",
        "import pandas as pd\n",
        "import matplotlib.pyplot as plt\n",
        "from tensorflow.keras.layers import Input, Conv2D, Dense, Flatten, Dropout, GlobalMaxPooling2D, BatchNormalization, MaxPooling2D, MaxPool2D\n",
        "from tensorflow.keras.models import Model \n",
        "\n"
      ],
      "metadata": {
        "id": "U_vg32qFoUFu"
      },
      "execution_count": null,
      "outputs": []
    },
    {
      "cell_type": "markdown",
      "source": [
        "### Reading and transforming the data"
      ],
      "metadata": {
        "id": "sziWAiOEnlUj"
      }
    },
    {
      "cell_type": "code",
      "source": [
        "Train = pd.read_csv(\"train.csv\")\n",
        "Test = pd.read_csv(\"test.csv\")"
      ],
      "metadata": {
        "id": "uItzV_9_npyI"
      },
      "execution_count": null,
      "outputs": []
    },
    {
      "cell_type": "code",
      "source": [
        "# Y\n",
        "y_train = Train['label'].values\n",
        "\n",
        "#convert the images into a matrix of size 28 X 28 \n",
        "X_train = Train.loc[:,Train.columns != 'label'].values\n",
        "X_train = X_train.reshape(-1,28,28,1)\n",
        "X_train.shape, y_train.shape\n"
      ],
      "metadata": {
        "colab": {
          "base_uri": "https://localhost:8080/"
        },
        "id": "sCIafRp_pgRS",
        "outputId": "2fb19574-c296-4b21-80de-5f559410d739"
      },
      "execution_count": null,
      "outputs": [
        {
          "output_type": "execute_result",
          "data": {
            "text/plain": [
              "((42000, 28, 28, 1), (42000,))"
            ]
          },
          "metadata": {},
          "execution_count": 8
        }
      ]
    },
    {
      "cell_type": "code",
      "source": [
        "#converting the test data\n",
        "X = Test.values\n",
        "X = X.reshape(-1,28,28,1)\n",
        "X.shape"
      ],
      "metadata": {
        "colab": {
          "base_uri": "https://localhost:8080/"
        },
        "id": "C_I_UPXXqNcq",
        "outputId": "a68f3496-a0b9-489c-b2b6-061aed6cf280"
      },
      "execution_count": null,
      "outputs": [
        {
          "output_type": "execute_result",
          "data": {
            "text/plain": [
              "(28000, 28, 28, 1)"
            ]
          },
          "metadata": {},
          "execution_count": 9
        }
      ]
    },
    {
      "cell_type": "markdown",
      "source": [
        "### Checking some images"
      ],
      "metadata": {
        "id": "ZUo2nzVHyaO1"
      }
    },
    {
      "cell_type": "code",
      "source": [
        "import matplotlib.pyplot as plt\n",
        "\n",
        "# create a grid of 3x3 images\n",
        "for i in range(0, 9):\n",
        "    plt.subplot(330 + 1 + i)\n",
        "    plt.imshow(X_train[i].reshape(28,28), cmap=plt.get_cmap('gray'))\n",
        "# show the plot\n",
        "plt.show()"
      ],
      "metadata": {
        "colab": {
          "base_uri": "https://localhost:8080/",
          "height": 268
        },
        "id": "P0cCdH_YNieO",
        "outputId": "632aae3c-5e32-40dd-93c6-c3ba07a7f80c"
      },
      "execution_count": null,
      "outputs": [
        {
          "output_type": "display_data",
          "data": {
            "text/plain": [
              "<Figure size 432x288 with 9 Axes>"
            ],
            "image/png": "[encoded data removed]"
          },
          "metadata": {
            "needs_background": "light"
          }
        }
      ]
    },
    {
      "cell_type": "code",
      "source": [
        "### Normalizing the data\n",
        "\n",
        "X_train = X_train.astype('float32') / 255\n",
        "X = X.astype('float32') /255"
      ],
      "metadata": {
        "id": "wOxPUZNbqgsm"
      },
      "execution_count": null,
      "outputs": []
    },
    {
      "cell_type": "code",
      "source": [
        "#from keras.utils import to_categorical\n",
        "#y_train = to_categorical(y_train)\n",
        "#test_labels = to_categorical(y_test)\n",
        "#y_train.shape"
      ],
      "metadata": {
        "colab": {
          "base_uri": "https://localhost:8080/"
        },
        "id": "a6Yx4OjAyE9X",
        "outputId": "1bbd416a-74fc-44cc-d7a0-99ef6f57e657"
      },
      "execution_count": null,
      "outputs": [
        {
          "output_type": "execute_result",
          "data": {
            "text/plain": [
              "(29400, 10)"
            ]
          },
          "metadata": {},
          "execution_count": 17
        }
      ]
    },
    {
      "cell_type": "code",
      "source": [
        "#Splitting the data\n",
        "\n",
        "from sklearn.model_selection  import train_test_split\n",
        "X_train, X_test, y_train, y_test = train_test_split(X_train, y_train, test_size=0.3)\n",
        "\n"
      ],
      "metadata": {
        "id": "vKPA9rWEOdbC"
      },
      "execution_count": null,
      "outputs": []
    },
    {
      "cell_type": "markdown",
      "source": [
        "### Building a model using the functional Keras API"
      ],
      "metadata": {
        "id": "ccshdQKfsZ9I"
      }
    },
    {
      "cell_type": "code",
      "source": [
        "K  = len(set(y_train))\n",
        "print('Number of classes is: ', K)"
      ],
      "metadata": {
        "colab": {
          "base_uri": "https://localhost:8080/"
        },
        "id": "ND9b0T9rtnnw",
        "outputId": "45a4293d-4c87-466d-8bc1-3503baf2a6d3"
      },
      "execution_count": null,
      "outputs": [
        {
          "output_type": "stream",
          "name": "stdout",
          "text": [
            "Number of classes is:  10\n"
          ]
        }
      ]
    },
    {
      "cell_type": "code",
      "source": [
        "i = Input(shape=X_train[0].shape)\n",
        "x = Conv2D(32, (3,3), padding = 'same', activation = 'relu')(i) #x = Conv2D(32, (3,3), strides = 2, activation = 'relu')(i)\n",
        "x = BatchNormalization()(x)\n",
        "x = Conv2D(32, (3,3), padding = 'same', activation = 'relu')(x)#x = Conv2D(64, (3,3), strides = 2, activation = 'relu')(i)\n",
        "x = BatchNormalization()(x)\n",
        "x = MaxPool2D()(x)  #x = MaxPooling2D((2,2))(x)\n",
        "x = Conv2D(64, (3,3), padding = 'same', activation = 'relu')(x)#x = Conv2D(128, (3,3), strides = 2, activation = 'relu')(i)\n",
        "x = BatchNormalization()(x)\n",
        "x = Conv2D(64, (3,3), padding = 'same', activation = 'relu')(x)\n",
        "x = BatchNormalization()(x)\n",
        "x = MaxPool2D()(x) #x = MaxPooling2D((2,2))(x)\n",
        "x = Conv2D(128, (3,3), padding = 'same', activation = 'relu')(x)#x = Conv2D(128, (3,3), strides = 2, activation = 'relu')(i)\n",
        "x = BatchNormalization()(x)\n",
        "x = Conv2D(128, (3,3), padding = 'same', activation = 'relu')(x)\n",
        "x = BatchNormalization()(x)\n",
        "x = MaxPool2D()(x) #x = MaxPooling2D((2,2))(x)\n",
        "x = Flatten()(x)\n",
        "x = Dropout(0.2)(x)\n",
        "x = Dense(512, activation = 'relu')(x)\n",
        "x = Dense(10, activation = 'softmax')(x)\n",
        "\n",
        "model = Model(i,x)"
      ],
      "metadata": {
        "id": "q5nwqwP1qjEL"
      },
      "execution_count": null,
      "outputs": []
    },
    {
      "cell_type": "code",
      "source": [
        "model.summary()"
      ],
      "metadata": {
        "colab": {
          "base_uri": "https://localhost:8080/"
        },
        "id": "lSGSLnzUw3dS",
        "outputId": "e5dbaae7-6eea-4f86-aa81-4cc1cd3a4e2a"
      },
      "execution_count": null,
      "outputs": [
        {
          "output_type": "stream",
          "name": "stdout",
          "text": [
            "Model: \"model_10\"\n",
            "_________________________________________________________________\n",
            " Layer (type)                Output Shape              Param #   \n",
            "=================================================================\n",
            " input_11 (InputLayer)       [(None, 28, 28, 1)]       0         \n",
            "                                                                 \n",
            " conv2d_40 (Conv2D)          (None, 28, 28, 32)        320       \n",
            "                                                                 \n",
            " batch_normalization_40 (Bat  (None, 28, 28, 32)       128       \n",
            " chNormalization)                                                \n",
            "                                                                 \n",
            " conv2d_41 (Conv2D)          (None, 28, 28, 32)        9248      \n",
            "                                                                 \n",
            " batch_normalization_41 (Bat  (None, 28, 28, 32)       128       \n",
            " chNormalization)                                                \n",
            "                                                                 \n",
            " max_pooling2d_28 (MaxPoolin  (None, 14, 14, 32)       0         \n",
            " g2D)                                                            \n",
            "                                                                 \n",
            " conv2d_42 (Conv2D)          (None, 14, 14, 64)        18496     \n",
            "                                                                 \n",
            " batch_normalization_42 (Bat  (None, 14, 14, 64)       256       \n",
            " chNormalization)                                                \n",
            "                                                                 \n",
            " conv2d_43 (Conv2D)          (None, 14, 14, 64)        36928     \n",
            "                                                                 \n",
            " batch_normalization_43 (Bat  (None, 14, 14, 64)       256       \n",
            " chNormalization)                                                \n",
            "                                                                 \n",
            " max_pooling2d_29 (MaxPoolin  (None, 7, 7, 64)         0         \n",
            " g2D)                                                            \n",
            "                                                                 \n",
            " conv2d_44 (Conv2D)          (None, 7, 7, 64)          36928     \n",
            "                                                                 \n",
            " batch_normalization_44 (Bat  (None, 7, 7, 64)         256       \n",
            " chNormalization)                                                \n",
            "                                                                 \n",
            " conv2d_45 (Conv2D)          (None, 7, 7, 64)          36928     \n",
            "                                                                 \n",
            " batch_normalization_45 (Bat  (None, 7, 7, 64)         256       \n",
            " chNormalization)                                                \n",
            "                                                                 \n",
            " max_pooling2d_30 (MaxPoolin  (None, 3, 3, 64)         0         \n",
            " g2D)                                                            \n",
            "                                                                 \n",
            " flatten_10 (Flatten)        (None, 576)               0         \n",
            "                                                                 \n",
            " dense_20 (Dense)            (None, 512)               295424    \n",
            "                                                                 \n",
            " dense_21 (Dense)            (None, 10)                5130      \n",
            "                                                                 \n",
            "=================================================================\n",
            "Total params: 440,682\n",
            "Trainable params: 440,042\n",
            "Non-trainable params: 640\n",
            "_________________________________________________________________\n"
          ]
        }
      ]
    },
    {
      "cell_type": "code",
      "source": [
        "# compile and fit the model\n",
        "tf.random.set_seed(7)\n",
        "model.compile(optimizer=tf.keras.optimizers.Adam(learning_rate=0.0005), loss = 'sparse_categorical_crossentropy', metrics=['accuracy'])\n",
        "#r = model.fit(X_train,y_train, validation_data=(X_test,y_test),  epochs = 15)\n"
      ],
      "metadata": {
        "id": "_z9qqorTt5KI",
        "colab": {
          "base_uri": "https://localhost:8080/"
        },
        "outputId": "e92fefbd-6661-4bc3-be91-a5905bfbc379"
      },
      "execution_count": null,
      "outputs": [
        {
          "output_type": "stream",
          "name": "stdout",
          "text": [
            "Epoch 1/15\n",
            "552/552 [==============================] - 5s 7ms/step - loss: 0.2272 - accuracy: 0.9354 - val_loss: 0.0867 - val_accuracy: 0.9738\n",
            "Epoch 2/15\n",
            "552/552 [==============================] - 4s 7ms/step - loss: 0.0678 - accuracy: 0.9788 - val_loss: 0.1135 - val_accuracy: 0.9669\n",
            "Epoch 3/15\n",
            "552/552 [==============================] - 4s 7ms/step - loss: 0.0508 - accuracy: 0.9841 - val_loss: 0.1059 - val_accuracy: 0.9708\n",
            "Epoch 4/15\n",
            "552/552 [==============================] - 4s 7ms/step - loss: 0.0400 - accuracy: 0.9868 - val_loss: 0.0556 - val_accuracy: 0.9832\n",
            "Epoch 5/15\n",
            "552/552 [==============================] - 4s 7ms/step - loss: 0.0324 - accuracy: 0.9892 - val_loss: 0.0554 - val_accuracy: 0.9843\n",
            "Epoch 6/15\n",
            "552/552 [==============================] - 4s 7ms/step - loss: 0.0301 - accuracy: 0.9902 - val_loss: 0.0695 - val_accuracy: 0.9816\n",
            "Epoch 7/15\n",
            "552/552 [==============================] - 4s 7ms/step - loss: 0.0212 - accuracy: 0.9927 - val_loss: 0.0798 - val_accuracy: 0.9812\n",
            "Epoch 8/15\n",
            "552/552 [==============================] - 4s 7ms/step - loss: 0.0225 - accuracy: 0.9928 - val_loss: 0.0494 - val_accuracy: 0.9877\n",
            "Epoch 9/15\n",
            "552/552 [==============================] - 4s 7ms/step - loss: 0.0225 - accuracy: 0.9928 - val_loss: 0.0556 - val_accuracy: 0.9870\n",
            "Epoch 10/15\n",
            "552/552 [==============================] - 4s 7ms/step - loss: 0.0251 - accuracy: 0.9927 - val_loss: 0.0696 - val_accuracy: 0.9858\n",
            "Epoch 11/15\n",
            "552/552 [==============================] - 4s 7ms/step - loss: 0.0229 - accuracy: 0.9934 - val_loss: 0.0434 - val_accuracy: 0.9896\n",
            "Epoch 12/15\n",
            "552/552 [==============================] - 4s 8ms/step - loss: 0.0148 - accuracy: 0.9952 - val_loss: 0.0576 - val_accuracy: 0.9843\n",
            "Epoch 13/15\n",
            "552/552 [==============================] - 4s 7ms/step - loss: 0.0115 - accuracy: 0.9958 - val_loss: 0.0568 - val_accuracy: 0.9870\n",
            "Epoch 14/15\n",
            "552/552 [==============================] - 4s 7ms/step - loss: 0.0200 - accuracy: 0.9934 - val_loss: 0.0654 - val_accuracy: 0.9841\n",
            "Epoch 15/15\n",
            "552/552 [==============================] - 4s 7ms/step - loss: 0.0168 - accuracy: 0.9954 - val_loss: 0.0746 - val_accuracy: 0.9844\n"
          ]
        }
      ]
    },
    {
      "cell_type": "markdown",
      "source": [
        "### Creating some augmented data and fitting with fit_generetor"
      ],
      "metadata": {
        "id": "ZaO_GwHvq_LC"
      }
    },
    {
      "cell_type": "code",
      "source": [
        "from sklearn.utils import validation\n",
        "# Fit with data augmentation\n",
        "import tensorflow as tf\n",
        "\n",
        "tf.random.set_seed(7)\n",
        "\n",
        "\n",
        "batch_size = 32\n",
        "data_generator  = tf.keras.preprocessing.image.ImageDataGenerator(width_shift_range=0.1,height_shift_range = 0.1, zoom_range=0.1) #, rotation_range = 5\n",
        "train_generator = data_generator.flow(X_train, y_train, batch_size)\n",
        "steps_per_epoch = X_train.shape[0] // batch_size\n",
        "r = model.fit_generator(train_generator, validation_data = (X_test, y_test), steps_per_epoch=steps_per_epoch, epochs=25)"
      ],
      "metadata": {
        "colab": {
          "base_uri": "https://localhost:8080/"
        },
        "id": "p7AIqELbq-NB",
        "outputId": "7a00000b-217a-45fa-86db-532b568f6dba"
      },
      "execution_count": null,
      "outputs": [
        {
          "output_type": "stream",
          "name": "stdout",
          "text": [
            "Epoch 1/25\n"
          ]
        },
        {
          "output_type": "stream",
          "name": "stderr",
          "text": [
            "<ipython-input-92-2da8b6c33ef0>:12: UserWarning: `Model.fit_generator` is deprecated and will be removed in a future version. Please use `Model.fit`, which supports generators.\n",
            "  r = model.fit_generator(train_generator, validation_data = (X_test, y_test), steps_per_epoch=steps_per_epoch, epochs=25)\n"
          ]
        },
        {
          "output_type": "stream",
          "name": "stdout",
          "text": [
            "551/551 [==============================] - 9s 15ms/step - loss: 0.2995 - accuracy: 0.9096 - val_loss: 0.1485 - val_accuracy: 0.9528\n",
            "Epoch 2/25\n",
            "551/551 [==============================] - 8s 15ms/step - loss: 0.1008 - accuracy: 0.9683 - val_loss: 0.0570 - val_accuracy: 0.9813\n",
            "Epoch 3/25\n",
            "551/551 [==============================] - 8s 14ms/step - loss: 0.0814 - accuracy: 0.9750 - val_loss: 0.0493 - val_accuracy: 0.9847\n",
            "Epoch 4/25\n",
            "551/551 [==============================] - 8s 14ms/step - loss: 0.0621 - accuracy: 0.9807 - val_loss: 0.0464 - val_accuracy: 0.9856\n",
            "Epoch 5/25\n",
            "551/551 [==============================] - 8s 14ms/step - loss: 0.0526 - accuracy: 0.9826 - val_loss: 0.0475 - val_accuracy: 0.9856\n",
            "Epoch 6/25\n",
            "551/551 [==============================] - 10s 17ms/step - loss: 0.0483 - accuracy: 0.9850 - val_loss: 0.0839 - val_accuracy: 0.9786\n",
            "Epoch 7/25\n",
            "551/551 [==============================] - 8s 15ms/step - loss: 0.0507 - accuracy: 0.9853 - val_loss: 0.0913 - val_accuracy: 0.9718\n",
            "Epoch 8/25\n",
            "551/551 [==============================] - 8s 15ms/step - loss: 0.0421 - accuracy: 0.9873 - val_loss: 0.0620 - val_accuracy: 0.9827\n",
            "Epoch 9/25\n",
            "551/551 [==============================] - 8s 14ms/step - loss: 0.0401 - accuracy: 0.9881 - val_loss: 0.0557 - val_accuracy: 0.9857\n",
            "Epoch 10/25\n",
            "551/551 [==============================] - 8s 14ms/step - loss: 0.0347 - accuracy: 0.9892 - val_loss: 0.0615 - val_accuracy: 0.9827\n",
            "Epoch 11/25\n",
            "551/551 [==============================] - 8s 15ms/step - loss: 0.0316 - accuracy: 0.9903 - val_loss: 0.0399 - val_accuracy: 0.9896\n",
            "Epoch 12/25\n",
            "551/551 [==============================] - 8s 14ms/step - loss: 0.0318 - accuracy: 0.9905 - val_loss: 0.0317 - val_accuracy: 0.9898\n",
            "Epoch 13/25\n",
            "551/551 [==============================] - 8s 14ms/step - loss: 0.0259 - accuracy: 0.9918 - val_loss: 0.0476 - val_accuracy: 0.9864\n",
            "Epoch 14/25\n",
            "551/551 [==============================] - 8s 14ms/step - loss: 0.0308 - accuracy: 0.9911 - val_loss: 0.0497 - val_accuracy: 0.9854\n",
            "Epoch 15/25\n",
            "551/551 [==============================] - 8s 14ms/step - loss: 0.0304 - accuracy: 0.9910 - val_loss: 0.0390 - val_accuracy: 0.9897\n",
            "Epoch 16/25\n",
            "551/551 [==============================] - 8s 14ms/step - loss: 0.0233 - accuracy: 0.9931 - val_loss: 0.0351 - val_accuracy: 0.9907\n",
            "Epoch 17/25\n",
            "551/551 [==============================] - 8s 15ms/step - loss: 0.0280 - accuracy: 0.9920 - val_loss: 0.0508 - val_accuracy: 0.9861\n",
            "Epoch 18/25\n",
            "551/551 [==============================] - 8s 14ms/step - loss: 0.0230 - accuracy: 0.9927 - val_loss: 0.0346 - val_accuracy: 0.9901\n",
            "Epoch 19/25\n",
            "551/551 [==============================] - 8s 15ms/step - loss: 0.0216 - accuracy: 0.9931 - val_loss: 0.0361 - val_accuracy: 0.9894\n",
            "Epoch 20/25\n",
            "551/551 [==============================] - 8s 14ms/step - loss: 0.0216 - accuracy: 0.9934 - val_loss: 0.0563 - val_accuracy: 0.9864\n",
            "Epoch 21/25\n",
            "551/551 [==============================] - 8s 14ms/step - loss: 0.0224 - accuracy: 0.9928 - val_loss: 0.0551 - val_accuracy: 0.9888\n",
            "Epoch 22/25\n",
            "551/551 [==============================] - 8s 14ms/step - loss: 0.0207 - accuracy: 0.9940 - val_loss: 0.0309 - val_accuracy: 0.9915\n",
            "Epoch 23/25\n",
            "551/551 [==============================] - 8s 15ms/step - loss: 0.0217 - accuracy: 0.9931 - val_loss: 0.0420 - val_accuracy: 0.9903\n",
            "Epoch 24/25\n",
            "551/551 [==============================] - 8s 15ms/step - loss: 0.0170 - accuracy: 0.9945 - val_loss: 0.0460 - val_accuracy: 0.9898\n",
            "Epoch 25/25\n",
            "551/551 [==============================] - 8s 15ms/step - loss: 0.0154 - accuracy: 0.9948 - val_loss: 0.0388 - val_accuracy: 0.9923\n"
          ]
        }
      ]
    },
    {
      "cell_type": "markdown",
      "source": [
        "### Visualizing the results"
      ],
      "metadata": {
        "id": "w9Plo8KsWa16"
      }
    },
    {
      "cell_type": "code",
      "source": [
        "import matplotlib.pyplot as plt\n",
        "plt.plot(r.history['loss'], label = 'loss')\n",
        "plt.plot(r.history['val_loss'], label='val_loss')\n",
        "plt.legend()"
      ],
      "metadata": {
        "colab": {
          "base_uri": "https://localhost:8080/",
          "height": 282
        },
        "id": "8C7qpQBEWOR-",
        "outputId": "9befb68d-c002-48a6-b1be-ffcbfa540e2f"
      },
      "execution_count": null,
      "outputs": [
        {
          "output_type": "execute_result",
          "data": {
            "text/plain": [
              "<matplotlib.legend.Legend at 0x7f505bde1a00>"
            ]
          },
          "metadata": {},
          "execution_count": 93
        },
        {
          "output_type": "display_data",
          "data": {
            "text/plain": [
              "<Figure size 432x288 with 1 Axes>"
            ],
            "image/png": "[encoded data removed]"
          },
          "metadata": {
            "needs_background": "light"
          }
        }
      ]
    },
    {
      "cell_type": "code",
      "source": [
        "plt.plot(r.history['accuracy'], label = 'acc')\n",
        "plt.plot(r.history['val_accuracy'], label='val_acc')\n",
        "plt.legend()"
      ],
      "metadata": {
        "colab": {
          "base_uri": "https://localhost:8080/",
          "height": 282
        },
        "id": "pTw0NkxtWRD1",
        "outputId": "7effbdae-e05a-465b-d8e0-2f324232466e"
      },
      "execution_count": null,
      "outputs": [
        {
          "output_type": "execute_result",
          "data": {
            "text/plain": [
              "<matplotlib.legend.Legend at 0x7f505be593a0>"
            ]
          },
          "metadata": {},
          "execution_count": 94
        },
        {
          "output_type": "display_data",
          "data": {
            "text/plain": [
              "<Figure size 432x288 with 1 Axes>"
            ],
            "image/png": "[encoded data removed]"
          },
          "metadata": {
            "needs_background": "light"
          }
        }
      ]
    },
    {
      "cell_type": "code",
      "source": [
        "import numpy as np\n",
        "import matplotlib.pyplot as plt\n",
        "from sklearn.metrics import confusion_matrix\n",
        "tf.random.set_seed(7)\n",
        "\n",
        "# Generate predictions for the validation set\n",
        "y_test_pred = model.predict(X_test)\n",
        "\n",
        "# Convert the predictions and true labels to binary arrays\n",
        "#y_test = np.argmax(y_test, axis=1)\n",
        "y_test_pred = [np.argmax(y, axis=None, out=None) for y in y_test_pred]\n",
        "\n",
        "print(y_test, y_test_pred)\n",
        "\n",
        "# Calculate the confusion matrix\n",
        "cm = confusion_matrix(y_test, y_test_pred)\n",
        "\n",
        "# Plot the confusion matrix as a heatmap\n",
        "plt.figure(figsize=(10, 8))\n",
        "plt.imshow(cm, cmap='Blues')\n",
        "plt.colorbar()\n",
        "plt.xlabel(\"Predicted labels\")\n",
        "plt.ylabel(\"True labels\")\n",
        "plt.title(\"Confusion Matrix for Validation Set\")\n",
        "\n",
        "# Add text annotations for each cell in the heatmap\n",
        "for i in range(10):\n",
        "    for j in range(10):\n",
        "        text = plt.text(j, i, cm[i, j], ha=\"center\", va=\"center\", color=\"black\")\n",
        "\n",
        "plt.show()"
      ],
      "metadata": {
        "colab": {
          "base_uri": "https://localhost:8080/",
          "height": 568
        },
        "id": "XrnNvCCxWVAw",
        "outputId": "0fa646aa-34e7-4b92-a0a7-8cb59ed69dfd"
      },
      "execution_count": null,
      "outputs": [
        {
          "output_type": "stream",
          "name": "stdout",
          "text": [
            "237/237 [==============================] - 1s 2ms/step\n",
            "[3 0 7 ... 1 5 7] [3, 0, 7, 0, 5, 0, 4, 5, 5, 2, 1, 0, 0, 7, 4, 8, 8, 8, 4, 0, 5, 4, 6, 6, 2, 4, 7, 2, 5, 9, 2, 3, 9, 3, 0, 7, 6, 8, 7, 4, 4, 9, 6, 8, 9, 1, 9, 6, 2, 6, 7, 6, 8, 9, 5, 8, 7, 3, 7, 5, 9, 7, 2, 8, 6, 1, 7, 6, 1, 2, 7, 4, 8, 1, 3, 5, 1, 4, 4, 7, 3, 1, 0, 7, 0, 7, 1, 7, 2, 0, 6, 5, 4, 4, 4, 0, 4, 0, 7, 1, 1, 6, 9, 1, 5, 5, 7, 0, 8, 2, 7, 8, 4, 1, 6, 7, 0, 2, 4, 5, 2, 1, 5, 1, 1, 7, 1, 4, 6, 7, 2, 1, 0, 8, 6, 8, 8, 4, 6, 4, 7, 6, 5, 2, 2, 6, 9, 2, 9, 8, 8, 9, 2, 1, 8, 8, 3, 7, 6, 9, 6, 2, 8, 0, 8, 5, 3, 6, 6, 2, 8, 1, 1, 5, 1, 1, 2, 6, 3, 5, 8, 9, 1, 3, 5, 0, 6, 9, 2, 9, 0, 6, 6, 5, 9, 0, 2, 5, 0, 2, 1, 6, 0, 3, 7, 2, 6, 4, 4, 1, 8, 3, 3, 7, 6, 6, 4, 6, 6, 7, 1, 6, 3, 5, 1, 3, 9, 3, 7, 5, 4, 4, 5, 6, 1, 6, 6, 6, 2, 4, 0, 0, 1, 7, 1, 8, 1, 0, 1, 1, 6, 3, 2, 4, 7, 8, 6, 6, 9, 7, 5, 9, 0, 2, 0, 3, 2, 9, 3, 9, 1, 4, 9, 1, 8, 2, 0, 6, 9, 4, 9, 6, 7, 4, 6, 1, 6, 1, 3, 9, 9, 2, 4, 9, 3, 1, 1, 4, 5, 3, 8, 9, 1, 3, 0, 0, 9, 0, 8, 9, 2, 2, 0, 6, 6, 6, 7, 4, 2, 2, 5, 6, 0, 7, 3, 7, 8, 0, 2, 7, 7, 2, 4, 6, 3, 3, 6, 2, 2, 2, 1, 7, 0, 4, 5, 0, 8, 0, 2, 0, 9, 5, 4, 2, 6, 3, 0, 2, 0, 4, 2, 9, 9, 5, 1, 2, 9, 4, 3, 8, 3, 1, 2, 4, 2, 7, 2, 7, 0, 1, 4, 6, 6, 1, 6, 0, 6, 1, 7, 7, 2, 4, 4, 3, 5, 6, 9, 5, 9, 6, 9, 5, 3, 7, 5, 3, 8, 5, 0, 9, 0, 0, 1, 1, 9, 5, 2, 0, 3, 2, 6, 3, 1, 7, 3, 9, 5, 8, 0, 3, 7, 0, 6, 3, 3, 3, 9, 3, 5, 2, 9, 2, 4, 1, 4, 9, 0, 3, 0, 4, 1, 7, 4, 1, 8, 1, 0, 1, 1, 2, 9, 6, 4, 4, 1, 1, 9, 8, 3, 4, 4, 0, 0, 3, 7, 7, 5, 7, 0, 6, 7, 1, 6, 0, 3, 0, 1, 9, 7, 3, 3, 0, 2, 9, 4, 2, 3, 5, 9, 6, 0, 2, 1, 3, 5, 2, 7, 4, 8, 9, 8, 4, 9, 7, 6, 3, 6, 7, 0, 6, 5, 6, 4, 8, 3, 1, 4, 0, 2, 2, 2, 7, 3, 8, 8, 2, 9, 9, 2, 9, 2, 5, 1, 5, 9, 7, 2, 7, 3, 8, 3, 0, 4, 9, 0, 1, 2, 6, 7, 2, 4, 3, 3, 9, 4, 0, 2, 4, 5, 9, 2, 6, 8, 2, 0, 4, 2, 8, 3, 1, 2, 5, 1, 1, 2, 9, 6, 4, 0, 6, 0, 9, 3, 2, 0, 2, 1, 0, 2, 1, 7, 1, 9, 2, 9, 5, 9, 4, 5, 6, 4, 5, 5, 6, 4, 5, 7, 2, 4, 0, 9, 7, 8, 3, 8, 4, 3, 0, 6, 4, 1, 3, 4, 6, 5, 1, 1, 1, 3, 6, 8, 1, 0, 3, 6, 3, 8, 6, 3, 4, 9, 3, 0, 7, 5, 3, 6, 1, 5, 3, 1, 9, 0, 2, 9, 8, 1, 8, 7, 5, 3, 1, 6, 8, 9, 8, 6, 0, 3, 6, 8, 4, 4, 6, 3, 5, 1, 9, 5, 5, 2, 5, 9, 2, 6, 3, 8, 2, 8, 2, 0, 3, 0, 7, 3, 6, 0, 8, 3, 3, 5, 7, 6, 6, 4, 0, 3, 6, 5, 9, 5, 4, 3, 0, 2, 1, 4, 1, 6, 6, 6, 8, 9, 4, 7, 5, 8, 1, 1, 2, 9, 0, 5, 3, 9, 1, 1, 2, 3, 2, 0, 4, 5, 4, 8, 8, 1, 5, 5, 6, 5, 3, 5, 9, 8, 1, 9, 4, 5, 1, 9, 0, 8, 3, 9, 2, 9, 9, 4, 0, 6, 2, 4, 5, 7, 7, 5, 9, 7, 4, 5, 4, 2, 4, 0, 8, 5, 0, 0, 8, 9, 2, 2, 4, 3, 0, 7, 2, 3, 7, 7, 5, 3, 1, 2, 6, 1, 6, 8, 4, 6, 3, 3, 2, 1, 6, 1, 8, 9, 6, 5, 1, 6, 2, 3, 4, 5, 5, 7, 5, 2, 7, 0, 9, 2, 2, 1, 2, 8, 8, 4, 9, 0, 4, 8, 4, 4, 8, 0, 2, 4, 3, 2, 1, 9, 3, 7, 2, 6, 0, 8, 8, 3, 3, 7, 0, 5, 0, 5, 1, 9, 0, 9, 8, 7, 0, 0, 3, 6, 0, 7, 2, 9, 8, 5, 3, 4, 2, 2, 3, 4, 5, 4, 0, 6, 9, 6, 1, 0, 9, 2, 8, 0, 9, 6, 1, 2, 1, 9, 3, 6, 1, 5, 1, 8, 2, 7, 9, 6, 6, 2, 8, 9, 2, 0, 8, 0, 0, 6, 1, 8, 2, 6, 7, 0, 8, 9, 3, 2, 2, 1, 6, 5, 3, 3, 7, 5, 7, 3, 1, 9, 1, 3, 1, 6, 7, 4, 1, 1, 0, 7, 0, 9, 2, 3, 6, 6, 9, 0, 0, 5, 1, 1, 1, 0, 7, 4, 4, 5, 7, 9, 5, 7, 8, 6, 3, 8, 1, 9, 3, 6, 0, 2, 6, 3, 2, 4, 8, 5, 8, 4, 9, 8, 4, 1, 4, 3, 8, 7, 3, 0, 4, 9, 8, 0, 8, 9, 8, 2, 3, 4, 1, 1, 5, 1, 7, 1, 6, 2, 7, 1, 6, 6, 5, 6, 1, 8, 3, 5, 4, 3, 2, 9, 0, 2, 9, 5, 1, 8, 3, 7, 4, 9, 5, 7, 3, 5, 0, 1, 3, 7, 6, 8, 5, 7, 8, 3, 2, 5, 9, 0, 2, 3, 6, 7, 8, 6, 7, 6, 8, 7, 6, 6, 8, 3, 0, 4, 9, 7, 0, 7, 1, 8, 0, 2, 6, 4, 8, 2, 0, 2, 5, 8, 3, 8, 9, 7, 2, 0, 6, 5, 2, 7, 4, 7, 6, 9, 1, 3, 9, 6, 1, 9, 7, 1, 6, 5, 2, 5, 7, 4, 6, 1, 2, 5, 4, 4, 0, 5, 0, 5, 0, 6, 2, 6, 3, 2, 1, 9, 0, 1, 1, 8, 3, 0, 9, 6, 8, 1, 4, 1, 3, 6, 6, 3, 7, 8, 2, 7, 2, 0, 8, 7, 6, 0, 9, 7, 0, 2, 8, 9, 8, 7, 4, 9, 0, 2, 8, 1, 3, 2, 7, 2, 0, 9, 7, 9, 8, 1, 5, 3, 4, 7, 4, 1, 1, 2, 1, 9, 4, 3, 1, 9, 8, 4, 4, 7, 7, 6, 0, 4, 3, 9, 7, 2, 6, 1, 1, 0, 2, 9, 3, 6, 1, 3, 4, 8, 8, 9, 3, 5, 6, 0, 3, 1, 0, 3, 6, 9, 9, 1, 7, 2, 0, 7, 3, 3, 0, 7, 2, 7, 1, 7, 4, 7, 2, 7, 9, 8, 2, 8, 9, 5, 2, 9, 5, 9, 6, 7, 3, 3, 7, 4, 9, 9, 0, 2, 1, 7, 5, 0, 1, 1, 3, 0, 0, 3, 3, 0, 7, 3, 9, 6, 8, 6, 0, 3, 4, 0, 0, 7, 5, 3, 1, 0, 2, 8, 9, 2, 3, 5, 5, 8, 8, 9, 5, 8, 0, 4, 4, 6, 2, 6, 3, 9, 0, 9, 3, 6, 4, 6, 9, 7, 6, 3, 3, 2, 8, 5, 3, 7, 2, 5, 3, 8, 2, 5, 2, 4, 1, 4, 2, 7, 5, 5, 3, 7, 9, 6, 9, 3, 8, 7, 2, 4, 3, 6, 6, 8, 1, 1, 7, 3, 8, 0, 6, 1, 2, 9, 9, 6, 3, 7, 3, 2, 2, 3, 6, 6, 2, 4, 5, 2, 6, 0, 0, 7, 4, 3, 5, 7, 2, 7, 1, 8, 9, 8, 5, 0, 2, 6, 8, 5, 7, 6, 2, 6, 2, 4, 3, 5, 6, 2, 1, 1, 0, 2, 5, 9, 8, 3, 0, 8, 1, 7, 2, 2, 1, 1, 3, 0, 2, 3, 7, 4, 0, 5, 1, 6, 1, 3, 9, 1, 1, 2, 4, 1, 9, 8, 0, 2, 8, 1, 3, 7, 7, 4, 3, 6, 2, 5, 1, 6, 8, 7, 0, 4, 9, 2, 7, 6, 5, 7, 2, 3, 6, 7, 6, 4, 3, 7, 5, 5, 9, 0, 6, 2, 1, 0, 2, 7, 8, 9, 9, 3, 9, 3, 8, 4, 9, 1, 9, 1, 9, 5, 2, 9, 0, 1, 2, 5, 3, 7, 5, 2, 5, 6, 1, 4, 7, 7, 6, 6, 4, 6, 3, 0, 2, 5, 0, 9, 4, 5, 4, 4, 5, 6, 0, 2, 1, 0, 1, 9, 3, 5, 9, 8, 9, 9, 4, 6, 0, 6, 2, 0, 4, 0, 4, 2, 6, 9, 0, 7, 3, 3, 4, 4, 1, 2, 5, 1, 7, 9, 3, 1, 2, 0, 7, 0, 0, 4, 0, 1, 6, 0, 2, 4, 5, 6, 1, 4, 7, 3, 2, 9, 1, 8, 4, 9, 1, 2, 8, 4, 0, 2, 0, 2, 8, 5, 2, 6, 1, 0, 6, 6, 3, 3, 1, 3, 7, 7, 3, 3, 8, 1, 3, 9, 7, 1, 2, 7, 7, 1, 3, 1, 0, 3, 0, 2, 5, 1, 3, 1, 9, 5, 9, 7, 7, 3, 9, 4, 0, 5, 7, 7, 9, 3, 5, 3, 0, 4, 9, 2, 5, 5, 2, 6, 5, 7, 4, 2, 2, 3, 2, 4, 7, 9, 4, 1, 0, 4, 7, 0, 3, 9, 0, 8, 6, 0, 3, 6, 6, 8, 2, 1, 6, 8, 4, 3, 8, 8, 4, 6, 5, 1, 3, 2, 1, 1, 1, 3, 1, 7, 8, 6, 4, 4, 6, 6, 7, 0, 8, 2, 3, 8, 7, 1, 2, 3, 3, 3, 3, 3, 6, 4, 8, 7, 6, 4, 1, 2, 1, 8, 1, 0, 9, 0, 7, 5, 9, 1, 2, 2, 6, 8, 4, 7, 2, 7, 0, 3, 4, 2, 8, 8, 6, 1, 4, 9, 2, 7, 7, 0, 6, 9, 6, 6, 2, 2, 9, 2, 4, 9, 1, 3, 0, 2, 8, 3, 0, 4, 1, 4, 7, 1, 4, 9, 0, 1, 4, 1, 7, 7, 5, 3, 5, 8, 6, 9, 4, 1, 8, 3, 6, 6, 2, 1, 1, 5, 0, 9, 1, 4, 1, 3, 5, 7, 8, 6, 8, 6, 1, 8, 6, 9, 7, 4, 2, 4, 3, 1, 0, 9, 5, 2, 9, 1, 4, 2, 7, 0, 5, 4, 4, 0, 3, 2, 7, 8, 0, 6, 1, 9, 1, 2, 1, 4, 4, 9, 2, 7, 9, 3, 8, 7, 4, 8, 1, 8, 8, 4, 1, 1, 1, 2, 6, 3, 3, 5, 3, 7, 6, 9, 3, 6, 1, 7, 3, 4, 1, 4, 5, 2, 0, 3, 9, 3, 4, 5, 9, 9, 8, 0, 0, 4, 4, 0, 1, 7, 3, 9, 7, 9, 3, 1, 1, 2, 4, 1, 7, 1, 8, 6, 9, 3, 1, 6, 7, 5, 7, 2, 7, 8, 4, 5, 2, 0, 9, 2, 8, 0, 4, 3, 4, 6, 6, 5, 2, 9, 7, 3, 2, 1, 7, 2, 5, 5, 1, 4, 8, 8, 4, 3, 5, 9, 7, 2, 6, 1, 7, 4, 6, 9, 8, 5, 6, 3, 2, 9, 8, 3, 8, 3, 5, 8, 6, 1, 7, 6, 6, 5, 1, 0, 4, 3, 6, 4, 2, 0, 8, 9, 0, 8, 3, 3, 4, 3, 4, 0, 2, 2, 8, 4, 7, 4, 1, 6, 3, 5, 1, 9, 7, 9, 3, 4, 6, 1, 5, 0, 0, 6, 1, 7, 0, 1, 0, 7, 2, 6, 5, 7, 6, 3, 3, 7, 2, 9, 0, 4, 1, 1, 5, 6, 6, 1, 7, 7, 9, 2, 0, 6, 6, 2, 5, 3, 9, 6, 6, 9, 8, 1, 1, 5, 4, 3, 6, 8, 3, 9, 9, 7, 8, 5, 0, 2, 6, 2, 9, 3, 5, 4, 3, 1, 2, 4, 2, 6, 6, 3, 9, 3, 5, 2, 2, 9, 5, 2, 4, 2, 2, 7, 8, 7, 7, 5, 3, 1, 0, 2, 2, 8, 8, 8, 7, 9, 1, 2, 9, 3, 7, 6, 4, 0, 6, 0, 5, 3, 3, 1, 1, 0, 1, 5, 2, 4, 6, 5, 7, 6, 7, 0, 6, 1, 3, 5, 6, 2, 2, 5, 0, 8, 2, 7, 8, 5, 9, 0, 4, 4, 2, 0, 6, 5, 8, 7, 5, 1, 6, 3, 9, 6, 2, 5, 7, 0, 7, 1, 6, 6, 6, 7, 2, 6, 5, 0, 1, 8, 7, 8, 8, 4, 2, 3, 4, 4, 8, 9, 4, 8, 4, 7, 6, 1, 7, 3, 4, 4, 9, 9, 1, 6, 3, 4, 0, 0, 1, 4, 8, 3, 5, 1, 6, 4, 6, 7, 4, 3, 4, 4, 1, 8, 3, 5, 1, 7, 0, 3, 3, 0, 9, 0, 2, 1, 0, 2, 9, 8, 7, 2, 2, 2, 9, 4, 7, 1, 4, 7, 9, 7, 3, 1, 5, 5, 7, 7, 1, 8, 8, 4, 4, 5, 4, 0, 4, 6, 6, 2, 1, 0, 4, 0, 3, 0, 4, 1, 9, 0, 3, 1, 3, 6, 5, 9, 5, 2, 9, 2, 4, 8, 7, 3, 8, 0, 1, 2, 2, 3, 3, 4, 0, 2, 2, 8, 4, 5, 1, 3, 0, 9, 2, 0, 5, 3, 5, 0, 2, 7, 1, 0, 9, 3, 5, 8, 8, 5, 7, 6, 7, 2, 0, 0, 0, 6, 2, 1, 9, 7, 6, 3, 4, 7, 9, 1, 5, 1, 2, 3, 8, 2, 7, 2, 0, 9, 3, 5, 1, 7, 1, 7, 5, 1, 2, 6, 7, 5, 9, 7, 7, 3, 5, 4, 5, 5, 0, 6, 3, 8, 3, 7, 7, 2, 5, 8, 6, 0, 3, 9, 1, 8, 1, 8, 4, 8, 0, 5, 4, 8, 0, 4, 2, 9, 5, 9, 9, 8, 7, 3, 8, 9, 3, 2, 3, 1, 3, 1, 1, 8, 7, 3, 3, 7, 6, 7, 0, 8, 1, 2, 6, 8, 9, 4, 8, 8, 2, 3, 5, 0, 8, 1, 7, 7, 6, 9, 2, 2, 9, 6, 2, 8, 9, 3, 6, 2, 6, 5, 6, 7, 0, 1, 6, 0, 3, 9, 1, 9, 1, 2, 3, 8, 1, 1, 7, 1, 4, 2, 1, 8, 1, 3, 0, 1, 0, 7, 9, 9, 6, 3, 3, 1, 0, 8, 6, 3, 6, 7, 2, 4, 0, 3, 4, 1, 7, 5, 5, 5, 9, 1, 2, 1, 6, 4, 9, 1, 2, 6, 4, 1, 2, 0, 5, 3, 2, 6, 3, 4, 1, 6, 5, 1, 8, 6, 6, 0, 3, 8, 6, 6, 5, 1, 6, 6, 3, 2, 4, 3, 0, 0, 4, 3, 8, 8, 7, 0, 3, 7, 7, 5, 5, 7, 9, 4, 4, 2, 5, 9, 1, 0, 6, 7, 4, 1, 6, 7, 9, 3, 5, 7, 3, 9, 9, 4, 9, 8, 9, 5, 6, 9, 5, 0, 2, 3, 6, 9, 7, 1, 3, 1, 4, 9, 6, 2, 9, 1, 0, 2, 4, 8, 7, 8, 4, 0, 3, 9, 0, 7, 2, 5, 8, 2, 2, 9, 2, 1, 5, 9, 5, 7, 9, 4, 2, 6, 9, 9, 7, 1, 0, 3, 0, 3, 8, 8, 5, 3, 3, 0, 1, 6, 3, 2, 1, 0, 6, 0, 5, 3, 8, 1, 4, 8, 2, 7, 1, 7, 3, 0, 8, 5, 8, 5, 5, 0, 1, 8, 2, 1, 4, 0, 0, 8, 2, 8, 9, 8, 5, 9, 6, 3, 1, 1, 0, 0, 3, 5, 7, 6, 9, 6, 8, 7, 1, 2, 9, 8, 7, 3, 2, 5, 0, 5, 5, 6, 2, 2, 1, 8, 6, 9, 8, 0, 9, 9, 9, 9, 7, 4, 0, 9, 7, 0, 7, 7, 6, 7, 3, 7, 3, 2, 3, 4, 0, 8, 1, 9, 4, 5, 1, 1, 8, 4, 3, 4, 1, 2, 9, 8, 7, 6, 4, 3, 8, 3, 7, 4, 7, 2, 7, 6, 1, 4, 3, 9, 0, 9, 6, 3, 5, 0, 3, 8, 4, 3, 1, 7, 3, 2, 3, 4, 4, 8, 7, 2, 0, 8, 5, 4, 3, 6, 8, 4, 6, 4, 1, 3, 7, 6, 1, 1, 2, 6, 0, 3, 8, 2, 0, 9, 9, 3, 1, 1, 2, 6, 2, 5, 9, 8, 9, 5, 7, 8, 8, 5, 6, 9, 3, 1, 7, 2, 6, 7, 4, 2, 3, 6, 0, 1, 3, 3, 7, 7, 1, 6, 3, 4, 4, 9, 1, 3, 1, 2, 1, 1, 3, 1, 8, 8, 7, 0, 8, 0, 0, 7, 7, 8, 9, 1, 7, 8, 9, 6, 0, 0, 1, 7, 5, 2, 4, 5, 3, 2, 6, 9, 7, 3, 8, 4, 2, 6, 7, 3, 3, 0, 0, 1, 2, 3, 1, 0, 4, 5, 4, 2, 8, 1, 5, 1, 7, 0, 6, 5, 7, 8, 9, 8, 9, 3, 0, 6, 1, 7, 4, 8, 4, 7, 5, 2, 0, 0, 6, 0, 3, 3, 8, 9, 1, 0, 6, 2, 7, 8, 3, 1, 6, 5, 4, 7, 4, 7, 8, 7, 9, 8, 9, 0, 5, 4, 6, 6, 4, 2, 0, 9, 1, 9, 7, 7, 1, 4, 7, 4, 6, 0, 9, 2, 9, 3, 7, 0, 2, 7, 8, 7, 4, 8, 6, 3, 3, 7, 0, 8, 1, 4, 1, 6, 6, 7, 0, 6, 9, 0, 3, 4, 2, 8, 2, 7, 1, 6, 0, 3, 0, 1, 2, 1, 7, 8, 6, 4, 4, 8, 9, 0, 5, 0, 5, 0, 9, 0, 8, 9, 9, 9, 0, 6, 0, 1, 2, 0, 9, 2, 3, 3, 0, 0, 1, 4, 5, 2, 1, 1, 2, 6, 6, 9, 8, 4, 1, 6, 1, 1, 0, 6, 1, 4, 2, 2, 1, 5, 0, 6, 8, 3, 7, 8, 8, 8, 0, 8, 0, 4, 6, 8, 1, 7, 3, 6, 0, 7, 6, 5, 8, 4, 5, 4, 3, 8, 2, 7, 4, 8, 4, 7, 9, 1, 4, 9, 7, 3, 7, 2, 4, 8, 1, 8, 8, 4, 1, 4, 7, 9, 9, 6, 8, 9, 7, 2, 6, 1, 3, 9, 1, 7, 9, 9, 9, 6, 4, 9, 3, 0, 5, 6, 3, 0, 4, 9, 6, 0, 5, 5, 4, 3, 1, 1, 9, 4, 6, 0, 9, 6, 1, 7, 5, 0, 0, 1, 1, 2, 9, 1, 4, 1, 2, 1, 8, 2, 8, 4, 7, 2, 7, 1, 3, 6, 8, 0, 0, 2, 8, 3, 1, 8, 0, 3, 5, 5, 7, 8, 2, 2, 0, 7, 1, 0, 1, 7, 5, 0, 9, 3, 9, 8, 5, 4, 6, 7, 2, 9, 3, 2, 2, 1, 1, 8, 4, 3, 7, 9, 3, 0, 0, 5, 7, 5, 4, 8, 2, 9, 4, 3, 3, 3, 5, 2, 4, 2, 1, 5, 2, 8, 9, 9, 0, 7, 0, 1, 5, 2, 1, 8, 7, 2, 1, 2, 5, 9, 4, 6, 6, 8, 4, 1, 2, 1, 0, 9, 3, 2, 2, 8, 6, 2, 1, 1, 7, 1, 0, 4, 6, 2, 3, 2, 1, 4, 6, 7, 9, 6, 8, 9, 7, 8, 5, 8, 8, 6, 1, 7, 4, 9, 3, 4, 8, 4, 5, 9, 4, 1, 8, 4, 7, 3, 7, 5, 4, 1, 3, 5, 7, 6, 3, 2, 1, 6, 1, 6, 4, 4, 3, 4, 1, 3, 1, 4, 2, 9, 2, 2, 4, 4, 3, 2, 7, 5, 5, 8, 2, 7, 7, 3, 8, 1, 2, 2, 3, 1, 6, 1, 7, 9, 2, 3, 1, 4, 9, 6, 7, 0, 6, 0, 4, 1, 1, 0, 1, 5, 8, 3, 9, 5, 5, 3, 3, 0, 9, 2, 5, 1, 0, 8, 6, 4, 4, 6, 0, 4, 8, 0, 7, 3, 4, 3, 6, 8, 3, 6, 8, 0, 9, 9, 4, 6, 8, 1, 4, 3, 7, 8, 5, 4, 5, 9, 9, 0, 4, 9, 2, 5, 5, 4, 0, 5, 5, 7, 8, 4, 1, 6, 5, 7, 8, 3, 9, 2, 5, 6, 8, 8, 1, 8, 5, 7, 1, 4, 6, 6, 4, 8, 3, 7, 8, 7, 8, 7, 3, 4, 4, 1, 0, 1, 7, 4, 3, 2, 7, 7, 3, 5, 1, 5, 4, 2, 9, 8, 5, 1, 4, 8, 7, 4, 9, 2, 8, 9, 7, 7, 4, 0, 1, 1, 7, 6, 3, 8, 1, 4, 6, 1, 8, 3, 7, 9, 0, 7, 5, 4, 8, 1, 2, 8, 7, 0, 3, 9, 5, 0, 1, 3, 3, 5, 8, 8, 8, 2, 2, 1, 7, 1, 8, 2, 0, 4, 4, 6, 8, 6, 6, 5, 1, 8, 1, 2, 9, 3, 7, 4, 8, 7, 7, 1, 7, 5, 4, 7, 2, 0, 8, 1, 9, 8, 8, 1, 3, 3, 9, 8, 7, 8, 3, 3, 0, 7, 5, 3, 2, 7, 5, 8, 4, 0, 2, 6, 0, 0, 4, 8, 4, 5, 9, 4, 3, 9, 6, 5, 5, 9, 3, 1, 1, 3, 9, 0, 2, 2, 1, 8, 9, 5, 5, 7, 0, 4, 1, 4, 8, 7, 9, 5, 0, 1, 5, 9, 8, 6, 8, 3, 8, 9, 9, 0, 0, 2, 8, 4, 7, 4, 6, 9, 5, 7, 1, 5, 0, 7, 6, 8, 2, 4, 4, 1, 8, 5, 4, 3, 2, 4, 9, 8, 2, 2, 5, 6, 4, 3, 7, 7, 0, 5, 5, 4, 3, 1, 0, 7, 5, 4, 5, 4, 3, 9, 0, 4, 2, 0, 3, 0, 1, 0, 7, 1, 2, 8, 5, 0, 3, 3, 6, 2, 6, 8, 5, 5, 9, 4, 7, 3, 7, 1, 8, 0, 2, 6, 0, 0, 8, 2, 9, 9, 9, 1, 6, 7, 9, 7, 4, 9, 6, 7, 6, 0, 2, 1, 3, 3, 7, 3, 9, 3, 1, 8, 8, 5, 6, 3, 6, 6, 0, 9, 7, 1, 5, 0, 0, 4, 5, 4, 8, 0, 9, 7, 1, 6, 2, 3, 2, 1, 9, 8, 6, 5, 2, 9, 3, 9, 3, 4, 4, 2, 8, 6, 9, 1, 5, 1, 8, 8, 0, 4, 5, 6, 9, 2, 4, 8, 8, 6, 2, 0, 7, 6, 2, 5, 6, 7, 2, 1, 1, 1, 9, 2, 3, 5, 3, 8, 9, 2, 8, 5, 1, 0, 0, 3, 1, 7, 1, 2, 6, 4, 4, 1, 5, 7, 9, 5, 3, 8, 9, 2, 0, 9, 5, 9, 5, 1, 6, 3, 5, 9, 4, 5, 8, 7, 6, 9, 1, 1, 6, 8, 1, 4, 2, 1, 1, 9, 2, 5, 1, 2, 0, 0, 2, 8, 5, 3, 1, 7, 4, 0, 2, 7, 4, 4, 6, 6, 5, 1, 6, 2, 4, 7, 3, 9, 8, 1, 8, 0, 7, 4, 2, 7, 4, 9, 9, 8, 7, 5, 4, 5, 9, 5, 7, 0, 2, 6, 5, 8, 0, 4, 6, 6, 8, 6, 9, 5, 4, 3, 5, 5, 9, 8, 1, 3, 9, 5, 3, 2, 5, 3, 6, 5, 6, 4, 1, 9, 6, 1, 6, 5, 4, 7, 5, 4, 5, 3, 7, 8, 2, 4, 4, 0, 9, 8, 1, 8, 3, 4, 2, 8, 4, 2, 6, 1, 7, 3, 2, 4, 5, 7, 3, 0, 2, 0, 0, 4, 9, 3, 4, 5, 9, 6, 4, 8, 0, 6, 1, 4, 2, 7, 4, 6, 7, 8, 8, 1, 6, 2, 8, 2, 6, 9, 0, 6, 6, 6, 9, 9, 2, 8, 5, 0, 7, 9, 0, 1, 4, 4, 8, 3, 9, 6, 8, 2, 3, 6, 4, 3, 1, 3, 7, 0, 3, 5, 8, 8, 5, 1, 7, 3, 7, 2, 7, 2, 0, 3, 0, 9, 3, 5, 7, 5, 3, 2, 3, 6, 8, 5, 0, 2, 4, 9, 5, 6, 5, 4, 6, 3, 7, 7, 6, 8, 7, 7, 7, 4, 3, 2, 4, 9, 3, 9, 8, 1, 7, 1, 6, 4, 5, 3, 8, 7, 9, 3, 9, 8, 3, 3, 5, 4, 8, 3, 8, 6, 7, 4, 3, 5, 0, 0, 3, 9, 5, 4, 3, 7, 9, 1, 8, 0, 7, 3, 7, 8, 8, 1, 7, 8, 1, 6, 3, 1, 0, 8, 2, 0, 6, 2, 2, 7, 8, 0, 9, 6, 2, 1, 2, 0, 7, 9, 5, 1, 5, 1, 9, 0, 9, 5, 9, 1, 8, 7, 5, 4, 7, 5, 1, 5, 1, 0, 5, 7, 1, 9, 5, 6, 3, 9, 1, 5, 9, 9, 8, 9, 2, 7, 9, 4, 2, 9, 7, 3, 6, 7, 6, 6, 9, 3, 2, 1, 8, 3, 2, 5, 1, 4, 1, 9, 4, 6, 2, 3, 4, 6, 0, 7, 4, 3, 5, 5, 5, 7, 5, 8, 9, 5, 8, 5, 3, 0, 6, 1, 4, 0, 2, 1, 7, 2, 6, 9, 8, 9, 6, 5, 4, 0, 5, 1, 6, 7, 7, 5, 1, 2, 4, 4, 3, 7, 8, 7, 2, 4, 0, 1, 1, 9, 0, 5, 2, 1, 5, 5, 6, 1, 7, 9, 6, 2, 0, 7, 2, 4, 5, 2, 7, 0, 0, 7, 7, 6, 1, 5, 3, 6, 1, 8, 0, 2, 3, 5, 9, 3, 1, 9, 9, 8, 7, 2, 1, 9, 0, 8, 3, 2, 9, 0, 9, 4, 6, 9, 5, 1, 6, 8, 8, 6, 1, 7, 1, 3, 1, 2, 5, 9, 8, 1, 2, 8, 7, 6, 9, 3, 0, 0, 4, 1, 6, 3, 4, 1, 0, 3, 2, 0, 6, 5, 6, 8, 8, 2, 4, 9, 5, 0, 2, 8, 3, 7, 7, 1, 0, 5, 8, 6, 9, 6, 3, 4, 6, 1, 9, 3, 6, 5, 3, 9, 3, 3, 3, 9, 6, 0, 5, 3, 4, 8, 9, 3, 3, 0, 1, 6, 0, 2, 0, 8, 2, 1, 1, 0, 8, 3, 9, 8, 7, 1, 1, 4, 8, 2, 6, 1, 0, 1, 1, 0, 1, 1, 3, 5, 8, 1, 9, 8, 0, 1, 8, 2, 7, 1, 4, 7, 1, 3, 2, 2, 0, 5, 4, 9, 9, 4, 2, 7, 8, 9, 1, 0, 6, 7, 4, 5, 5, 5, 8, 9, 0, 5, 2, 8, 1, 4, 1, 5, 3, 1, 8, 8, 0, 1, 5, 6, 2, 2, 1, 2, 9, 1, 0, 4, 1, 2, 9, 0, 1, 3, 7, 1, 0, 2, 1, 8, 8, 7, 8, 6, 4, 5, 2, 6, 1, 4, 1, 0, 5, 4, 7, 8, 6, 6, 1, 3, 3, 8, 6, 3, 8, 1, 6, 2, 0, 6, 4, 2, 7, 8, 5, 6, 3, 6, 7, 9, 1, 8, 2, 6, 6, 4, 9, 1, 3, 2, 4, 3, 0, 4, 6, 6, 1, 1, 4, 5, 7, 6, 3, 7, 1, 6, 9, 8, 6, 7, 6, 0, 7, 0, 4, 0, 1, 0, 3, 6, 8, 6, 5, 5, 5, 4, 7, 0, 1, 8, 2, 2, 2, 6, 5, 0, 7, 2, 6, 2, 1, 3, 0, 8, 4, 9, 6, 0, 7, 5, 5, 9, 1, 4, 1, 4, 1, 6, 1, 7, 9, 9, 2, 6, 9, 9, 5, 7, 6, 8, 3, 8, 4, 0, 9, 6, 4, 0, 0, 2, 3, 0, 7, 9, 7, 1, 8, 5, 6, 4, 2, 5, 4, 1, 0, 8, 2, 1, 4, 2, 3, 2, 2, 7, 5, 9, 4, 0, 7, 8, 1, 5, 0, 3, 4, 4, 1, 4, 4, 1, 0, 3, 3, 9, 5, 2, 9, 4, 3, 7, 7, 9, 4, 6, 0, 7, 8, 1, 0, 9, 4, 4, 4, 2, 0, 9, 0, 7, 8, 1, 4, 7, 3, 7, 2, 6, 3, 2, 2, 4, 8, 2, 8, 3, 2, 4, 7, 7, 2, 0, 7, 3, 0, 7, 9, 0, 6, 8, 1, 3, 3, 0, 1, 8, 6, 1, 3, 5, 5, 5, 1, 6, 6, 3, 7, 7, 1, 6, 2, 1, 8, 0, 3, 2, 4, 2, 1, 7, 6, 1, 7, 3, 3, 1, 4, 7, 7, 6, 4, 1, 3, 0, 1, 1, 9, 2, 2, 2, 7, 7, 9, 5, 1, 1, 1, 0, 2, 2, 0, 1, 7, 3, 0, 8, 7, 3, 7, 2, 6, 4, 8, 2, 0, 7, 3, 8, 6, 7, 2, 3, 0, 7, 4, 9, 2, 6, 1, 5, 0, 6, 6, 8, 2, 2, 8, 6, 7, 0, 5, 2, 3, 1, 6, 4, 9, 9, 1, 0, 2, 0, 2, 5, 8, 9, 1, 7, 1, 4, 2, 8, 6, 7, 5, 1, 0, 2, 4, 8, 2, 3, 6, 5, 4, 0, 1, 4, 7, 7, 1, 3, 2, 7, 8, 5, 0, 0, 2, 8, 9, 2, 3, 9, 9, 4, 3, 9, 1, 1, 5, 1, 4, 1, 7, 0, 0, 1, 4, 7, 0, 3, 3, 8, 6, 7, 8, 1, 4, 5, 6, 4, 3, 6, 2, 4, 6, 4, 1, 4, 7, 7, 5, 9, 5, 6, 8, 4, 5, 3, 6, 2, 3, 4, 9, 3, 3, 2, 1, 2, 5, 8, 5, 9, 9, 0, 1, 3, 2, 4, 1, 7, 7, 9, 2, 6, 1, 6, 3, 7, 6, 1, 0, 8, 2, 5, 3, 8, 8, 3, 9, 3, 7, 4, 5, 3, 5, 0, 4, 4, 6, 0, 3, 8, 9, 9, 1, 7, 1, 1, 7, 2, 9, 0, 6, 4, 5, 4, 9, 7, 4, 5, 2, 1, 5, 2, 0, 3, 4, 5, 2, 2, 8, 4, 9, 8, 1, 7, 1, 1, 7, 4, 7, 9, 4, 0, 4, 5, 7, 1, 2, 2, 2, 2, 3, 4, 4, 6, 7, 5, 6, 1, 4, 8, 8, 6, 3, 9, 2, 7, 4, 4, 8, 3, 5, 7, 5, 0, 7, 4, 3, 8, 1, 5, 3, 2, 8, 8, 6, 6, 8, 2, 8, 1, 2, 0, 1, 8, 3, 4, 0, 3, 0, 7, 0, 0, 5, 3, 9, 2, 7, 9, 1, 1, 3, 0, 0, 4, 9, 5, 6, 4, 9, 1, 0, 2, 9, 3, 0, 5, 8, 4, 2, 0, 3, 0, 0, 9, 0, 5, 1, 5, 8, 3, 9, 3, 8, 6, 7, 8, 4, 9, 1, 4, 5, 1, 8, 5, 4, 6, 5, 3, 2, 8, 9, 7, 8, 6, 9, 1, 4, 7, 9, 6, 6, 5, 3, 2, 3, 5, 3, 7, 4, 2, 8, 3, 1, 3, 8, 8, 0, 9, 4, 4, 0, 0, 4, 7, 1, 0, 1, 0, 2, 1, 0, 0, 7, 7, 0, 9, 3, 2, 7, 7, 2, 6, 6, 7, 8, 4, 5, 8, 9, 9, 2, 1, 0, 7, 4, 0, 5, 0, 9, 2, 6, 2, 8, 7, 1, 7, 0, 8, 6, 0, 5, 7, 5, 0, 4, 4, 3, 4, 1, 8, 3, 0, 6, 1, 9, 8, 8, 1, 9, 6, 8, 5, 6, 8, 1, 6, 4, 7, 6, 2, 3, 4, 1, 6, 7, 4, 9, 5, 1, 6, 6, 2, 6, 5, 3, 9, 2, 0, 5, 1, 3, 9, 0, 9, 7, 2, 6, 1, 4, 8, 6, 7, 9, 8, 4, 6, 1, 1, 6, 7, 4, 8, 1, 3, 1, 6, 4, 6, 7, 4, 7, 6, 3, 3, 9, 7, 7, 6, 0, 3, 3, 1, 2, 9, 1, 1, 5, 3, 7, 9, 7, 1, 7, 5, 0, 5, 0, 8, 6, 7, 1, 3, 3, 4, 5, 7, 8, 9, 5, 6, 3, 8, 1, 0, 3, 1, 3, 6, 3, 6, 3, 0, 1, 9, 1, 1, 3, 2, 2, 4, 3, 1, 5, 9, 1, 7, 4, 3, 9, 9, 6, 7, 0, 5, 4, 8, 2, 7, 8, 5, 5, 9, 0, 2, 3, 7, 3, 6, 1, 7, 6, 4, 3, 8, 7, 3, 0, 5, 5, 7, 0, 0, 5, 1, 6, 8, 2, 7, 5, 6, 7, 0, 4, 4, 8, 3, 9, 0, 0, 5, 9, 7, 6, 3, 8, 7, 5, 3, 6, 9, 1, 0, 4, 2, 3, 5, 8, 0, 4, 3, 4, 3, 2, 2, 1, 7, 1, 5, 7, 1, 9, 2, 5, 1, 1, 7, 0, 2, 3, 4, 9, 1, 1, 0, 6, 6, 6, 4, 5, 3, 9, 0, 2, 8, 2, 2, 2, 1, 3, 8, 1, 4, 0, 8, 2, 2, 8, 6, 5, 8, 3, 5, 2, 3, 4, 6, 3, 1, 0, 9, 4, 7, 5, 2, 4, 9, 2, 0, 0, 6, 2, 9, 6, 0, 7, 1, 7, 8, 5, 1, 6, 6, 8, 2, 2, 0, 8, 8, 6, 2, 5, 7, 0, 7, 0, 8, 7, 5, 7, 1, 9, 8, 3, 2, 8, 8, 1, 9, 0, 8, 5, 1, 5, 5, 9, 7, 3, 2, 2, 6, 0, 5, 1, 5, 8, 3, 1, 0, 8, 9, 5, 8, 0, 9, 3, 6, 3, 5, 1, 7, 7, 8, 8, 6, 9, 7, 0, 3, 0, 0, 1, 5, 7, 3, 9, 6, 1, 1, 0, 6, 7, 5, 2, 7, 4, 4, 5, 9, 8, 8, 1, 5, 1, 2, 6, 0, 6, 8, 7, 1, 8, 4, 3, 9, 2, 7, 1, 1, 9, 9, 7, 9, 1, 2, 3, 1, 9, 7, 0, 4, 5, 9, 3, 7, 1, 8, 8, 2, 3, 2, 4, 6, 7, 1, 1, 3, 6, 5, 1, 3, 7, 9, 7, 1, 0, 6, 4, 3, 5, 3, 7, 0, 4, 0, 7, 7, 5, 1, 5, 6, 6, 8, 9, 3, 8, 5, 1, 2, 8, 3, 7, 2, 7, 9, 1, 1, 1, 6, 6, 0, 6, 7, 2, 1, 1, 6, 8, 7, 1, 1, 2, 9, 9, 2, 6, 8, 9, 7, 0, 9, 8, 2, 4, 0, 3, 7, 3, 5, 4, 3, 9, 2, 5, 3, 8, 6, 6, 8, 5, 3, 5, 4, 8, 8, 0, 3, 4, 1, 0, 3, 8, 6, 3, 4, 6, 0, 3, 0, 0, 3, 3, 3, 7, 6, 5, 4, 1, 4, 8, 2, 7, 2, 0, 6, 5, 1, 3, 1, 3, 2, 8, 2, 6, 0, 6, 5, 0, 6, 1, 3, 5, 5, 2, 6, 2, 1, 2, 1, 1, 7, 9, 1, 6, 7, 9, 9, 1, 3, 7, 2, 3, 7, 4, 0, 3, 2, 4, 4, 9, 6, 5, 8, 9, 9, 3, 5, 8, 8, 9, 5, 0, 6, 0, 3, 8, 5, 7, 2, 7, 9, 0, 5, 5, 1, 2, 7, 3, 9, 7, 7, 4, 2, 9, 2, 6, 0, 7, 7, 0, 1, 2, 4, 8, 2, 0, 3, 6, 6, 5, 0, 1, 5, 8, 1, 3, 4, 8, 5, 4, 5, 7, 0, 5, 1, 4, 0, 3, 3, 2, 7, 8, 5, 0, 7, 3, 0, 7, 9, 2, 6, 6, 3, 0, 7, 9, 5, 8, 8, 0, 0, 8, 8, 4, 0, 5, 4, 7, 4, 8, 3, 2, 6, 5, 7, 5, 3, 2, 3, 0, 3, 1, 1, 6, 0, 2, 3, 2, 3, 8, 4, 5, 2, 6, 1, 6, 3, 2, 1, 7, 5, 8, 5, 6, 9, 1, 6, 0, 4, 9, 3, 6, 9, 6, 0, 5, 9, 5, 5, 2, 3, 0, 6, 4, 5, 5, 7, 6, 8, 1, 2, 6, 8, 0, 7, 1, 6, 9, 2, 1, 8, 1, 7, 6, 0, 5, 0, 6, 0, 6, 5, 3, 7, 0, 8, 3, 3, 4, 0, 8, 2, 8, 4, 1, 7, 9, 8, 0, 4, 3, 0, 7, 8, 5, 7, 1, 0, 6, 1, 1, 3, 2, 4, 9, 4, 8, 4, 8, 4, 1, 2, 7, 9, 7, 5, 2, 4, 9, 5, 5, 5, 2, 4, 4, 4, 0, 2, 7, 0, 9, 1, 2, 3, 1, 2, 3, 4, 4, 5, 0, 0, 3, 9, 2, 9, 4, 1, 4, 7, 6, 4, 2, 6, 0, 3, 4, 4, 4, 7, 6, 5, 6, 2, 2, 0, 7, 7, 4, 8, 8, 0, 0, 8, 6, 7, 9, 8, 0, 0, 7, 2, 1, 9, 7, 7, 2, 3, 1, 9, 9, 1, 4, 3, 2, 2, 1, 5, 7, 9, 7, 0, 5, 6, 5, 3, 0, 4, 4, 8, 1, 1, 3, 6, 9, 3, 7, 3, 7, 9, 2, 2, 5, 2, 6, 0, 0, 2, 0, 6, 0, 3, 8, 1, 5, 9, 0, 2, 1, 8, 1, 8, 6, 3, 0, 2, 2, 4, 9, 5, 8, 6, 7, 5, 9, 7, 7, 0, 2, 8, 5, 0, 8, 5, 0, 1, 5, 2, 7, 7, 8, 9, 0, 2, 1, 4, 3, 0, 3, 5, 8, 7, 9, 2, 3, 0, 7, 1, 0, 9, 4, 9, 6, 5, 5, 3, 1, 2, 3, 9, 8, 4, 0, 9, 2, 0, 6, 2, 8, 9, 2, 9, 0, 2, 4, 7, 1, 2, 7, 7, 9, 1, 4, 7, 2, 1, 1, 7, 4, 5, 3, 4, 0, 7, 6, 6, 5, 5, 4, 2, 3, 9, 6, 1, 7, 6, 9, 4, 3, 0, 9, 6, 2, 3, 7, 1, 5, 3, 7, 1, 2, 1, 1, 8, 7, 6, 3, 8, 4, 1, 7, 8, 8, 8, 2, 2, 1, 8, 2, 0, 1, 8, 0, 1, 7, 0, 8, 0, 1, 9, 8, 2, 3, 3, 5, 9, 7, 7, 3, 7, 9, 1, 1, 8, 1, 7, 6, 5, 7, 6, 0, 6, 9, 4, 4, 9, 0, 4, 3, 4, 3, 3, 9, 8, 2, 5, 9, 4, 6, 1, 7, 4, 2, 9, 5, 2, 0, 5, 3, 3, 6, 6, 2, 3, 3, 8, 8, 1, 5, 9, 9, 5, 2, 7, 6, 1, 8, 7, 9, 8, 1, 4, 6, 8, 3, 3, 7, 6, 9, 4, 8, 2, 3, 3, 3, 4, 5, 1, 1, 8, 6, 5, 6, 4, 9, 7, 5, 5, 8, 7, 3, 8, 1, 4, 2, 1, 9, 2, 0, 6, 2, 7, 2, 5, 3, 6, 2, 0, 6, 0, 9, 3, 0, 0, 4, 0, 4, 6, 7, 6, 5, 2, 2, 5, 8, 6, 1, 0, 0, 6, 2, 2, 6, 3, 1, 4, 1, 8, 9, 4, 8, 7, 1, 3, 4, 0, 6, 2, 3, 0, 6, 5, 9, 6, 1, 8, 9, 6, 4, 3, 9, 6, 4, 7, 1, 1, 1, 1, 0, 7, 9, 1, 2, 6, 1, 7, 1, 7, 4, 3, 9, 7, 7, 8, 5, 4, 2, 9, 6, 3, 1, 1, 3, 5, 4, 7, 4, 5, 2, 1, 1, 0, 1, 5, 8, 5, 7, 6, 9, 9, 9, 8, 3, 3, 8, 3, 9, 4, 1, 2, 1, 2, 2, 6, 4, 9, 3, 6, 3, 6, 5, 7, 1, 7, 4, 1, 7, 3, 4, 4, 8, 1, 6, 8, 9, 5, 4, 0, 5, 1, 7, 1, 0, 7, 1, 2, 3, 7, 8, 4, 4, 4, 7, 2, 5, 9, 4, 5, 6, 9, 3, 2, 8, 8, 0, 5, 0, 4, 6, 5, 0, 7, 1, 0, 6, 5, 4, 1, 9, 1, 9, 7, 4, 9, 8, 0, 2, 3, 6, 4, 2, 2, 3, 1, 6, 3, 7, 5, 9, 5, 7, 4, 0, 7, 3, 0, 0, 7, 0, 7, 4, 5, 5, 8, 7, 7, 3, 6, 7, 5, 2, 7, 7, 2, 8, 4, 7, 7, 0, 6, 5, 2, 7, 3, 2, 8, 3, 3, 2, 6, 6, 0, 1, 8, 4, 5, 0, 9, 8, 6, 0, 8, 5, 9, 2, 2, 0, 2, 2, 6, 7, 4, 2, 7, 0, 2, 6, 8, 0, 8, 1, 8, 6, 8, 0, 5, 7, 7, 8, 0, 9, 7, 4, 8, 8, 1, 8, 4, 8, 0, 5, 0, 9, 2, 2, 5, 9, 7, 6, 3, 4, 6, 6, 5, 5, 9, 5, 2, 3, 3, 2, 0, 0, 1, 8, 9, 8, 9, 3, 7, 4, 1, 4, 2, 8, 0, 7, 2, 6, 4, 3, 5, 1, 2, 0, 5, 9, 0, 2, 5, 7, 8, 3, 4, 3, 5, 7, 1, 7, 5, 2, 6, 1, 4, 4, 3, 6, 4, 3, 4, 2, 9, 1, 8, 7, 1, 0, 7, 3, 2, 9, 4, 2, 7, 2, 4, 1, 2, 3, 9, 5, 0, 3, 1, 2, 8, 7, 7, 5, 2, 3, 8, 7, 6, 3, 0, 2, 0, 4, 9, 4, 5, 7, 4, 3, 0, 8, 5, 2, 6, 4, 1, 3, 6, 2, 6, 1, 7, 4, 2, 4, 0, 1, 6, 1, 9, 3, 4, 6, 7, 5, 6, 0, 6, 4, 7, 4, 4, 9, 4, 0, 4, 4, 0, 7, 0, 3, 8, 6, 5, 3, 2, 3, 1, 8, 3, 4, 1, 4, 2, 1, 4, 8, 1, 6, 8, 5, 2, 3, 3, 6, 7, 6, 8, 4, 1, 7, 1, 8, 2, 8, 6, 4, 9, 1, 8, 0, 2, 6, 2, 0, 1, 9, 7, 2, 5, 5, 5, 3, 9, 7, 6, 4, 0, 0, 4, 9, 1, 4, 6, 9, 3, 0, 1, 2, 2, 7, 9, 1, 0, 1, 9, 9, 2, 3, 1, 6, 8, 6, 8, 5, 4, 6, 1, 9, 1, 1, 2, 3, 5, 1, 4, 8, 6, 5, 5, 9, 5, 9, 1, 7, 2, 1, 7, 1, 6, 2, 0, 1, 3, 7, 2, 3, 7, 0, 2, 3, 4, 9, 6, 7, 2, 4, 8, 3, 4, 7, 0, 0, 2, 3, 3, 2, 5, 7, 6, 9, 0, 1, 4, 1, 0, 3, 3, 8, 1, 5, 0, 2, 2, 1, 7, 6, 1, 3, 0, 3, 0, 5, 5, 3, 5, 4, 8, 1, 7, 0, 7, 7, 6, 7, 9, 4, 2, 8, 2, 8, 7, 6, 7, 4, 6, 9, 6, 5, 3, 2, 4, 8, 5, 7, 9, 7, 0, 8, 4, 6, 1, 8, 0, 7, 0, 3, 0, 7, 6, 2, 8, 3, 7, 1, 7, 5, 6, 4, 4, 4, 8, 8, 0, 6, 3, 9, 9, 1, 9, 4, 1, 0, 2, 1, 2, 5, 3, 8, 5, 8, 9, 0, 8, 6, 3, 2, 2, 4, 6, 4, 7, 3, 6, 4, 4, 8, 5, 4, 5, 4, 9, 2, 2, 3, 8, 0, 5, 0, 5, 4, 2, 4, 1, 1, 8, 7, 2, 5, 6, 2, 4, 7, 2, 5, 7, 5, 8, 8, 1, 1, 0, 2, 4, 6, 2, 7, 9, 0, 9, 9, 2, 7, 4, 1, 7, 8, 6, 0, 7, 8, 3, 7, 8, 3, 0, 7, 8, 2, 0, 4, 1, 9, 0, 5, 3, 4, 4, 7, 1, 6, 5, 6, 5, 0, 6, 4, 0, 7, 9, 3, 6, 6, 2, 4, 8, 3, 9, 1, 5, 9, 9, 1, 7, 0, 1, 5, 3, 1, 5, 7, 7, 7, 6, 8, 1, 5, 7, 9, 2, 9, 9, 4, 4, 4, 5, 2, 3, 0, 4, 5, 8, 3, 7, 4, 6, 6, 5, 0, 1, 4, 2, 2, 4, 5, 4, 5, 5, 3, 1, 8, 8, 8, 9, 6, 4, 1, 9, 6, 0, 3, 9, 8, 5, 0, 7, 9, 5, 7, 8, 3, 7, 1, 1, 5, 9, 0, 3, 1, 0, 4, 0, 7, 7, 2, 1, 7, 6, 7, 0, 0, 1, 8, 4, 7, 6, 0, 4, 4, 7, 9, 6, 2, 2, 4, 9, 3, 5, 6, 6, 0, 4, 2, 8, 1, 2, 1, 6, 7, 4, 1, 0, 6, 1, 4, 7, 4, 9, 9, 5, 3, 0, 5, 2, 8, 3, 9, 5, 4, 2, 8, 7, 0, 6, 0, 6, 8, 8, 2, 8, 5, 2, 5, 8, 5, 5, 0, 7, 8, 5, 6, 9, 8, 6, 8, 2, 6, 8, 7, 8, 5, 5, 1, 4, 8, 2, 0, 3, 9, 1, 8, 2, 1, 8, 0, 5, 3, 1, 6, 8, 2, 2, 4, 6, 7, 6, 0, 1, 3, 0, 1, 1, 8, 7, 8, 2, 2, 7, 9, 9, 3, 5, 1, 5, 7]\n"
          ]
        },
        {
          "output_type": "display_data",
          "data": {
            "text/plain": [
              "<Figure size 720x576 with 2 Axes>"
            ],
            "image/png": "[encoded data removed]"
          },
          "metadata": {
            "needs_background": "light"
          }
        }
      ]
    },
    {
      "cell_type": "code",
      "source": [
        "tf.random.set_seed(7)\n",
        "pred = model.predict(X)"
      ],
      "metadata": {
        "colab": {
          "base_uri": "https://localhost:8080/"
        },
        "id": "5mdqxRBAypiQ",
        "outputId": "a7e85ae3-1ae6-42bc-b883-4707fe94f0e4"
      },
      "execution_count": null,
      "outputs": [
        {
          "output_type": "stream",
          "name": "stdout",
          "text": [
            "875/875 [==============================] - 2s 2ms/step\n"
          ]
        }
      ]
    },
    {
      "cell_type": "code",
      "source": [
        "pred.shape"
      ],
      "metadata": {
        "colab": {
          "base_uri": "https://localhost:8080/"
        },
        "id": "Bulc1jrqRpgb",
        "outputId": "314e8c0e-bf2a-4a94-dfc9-10c901d573fa"
      },
      "execution_count": null,
      "outputs": [
        {
          "output_type": "execute_result",
          "data": {
            "text/plain": [
              "(28000, 10)"
            ]
          },
          "metadata": {},
          "execution_count": 47
        }
      ]
    },
    {
      "cell_type": "code",
      "source": [
        "\n",
        "#Convert the results to the digits value \n",
        "y_classes = [np.argmax(y, axis=None, out=None) for y in pred]"
      ],
      "metadata": {
        "id": "p5uZHJnMQtsh"
      },
      "execution_count": null,
      "outputs": []
    },
    {
      "cell_type": "code",
      "source": [
        "x = list(range(1, 28001))\n",
        "df = pd.DataFrame({'ImageId' :x,'Label':y_classes})\n",
        "df.to_csv(\"CNN_prediction_v7.csv\",index=False)"
      ],
      "metadata": {
        "id": "N4d62fQZRI9Z"
      },
      "execution_count": null,
      "outputs": []
    },
    {
      "cell_type": "code",
      "source": [
        "df.head()"
      ],
      "metadata": {
        "colab": {
          "base_uri": "https://localhost:8080/",
          "height": 206
        },
        "id": "e6YQ5kNJQs0N",
        "outputId": "198a8b99-7e74-4690-d1f9-02cb0e930d04"
      },
      "execution_count": null,
      "outputs": [
        {
          "output_type": "execute_result",
          "data": {
            "text/plain": [
              "   ImageId  Label\n",
              "0        1      2\n",
              "1        2      0\n",
              "2        3      9\n",
              "3        4      0\n",
              "4        5      3"
            ],
            "text/html": [
              "\n",
              "  <div id=\"df-af8d2ed2-8e35-497c-957f-32e250ecdc93\">\n",
              "    <div class=\"colab-df-container\">\n",
              "      <div>\n",
              "<style scoped>\n",
              "    .dataframe tbody tr th:only-of-type {\n",
              "        vertical-align: middle;\n",
              "    }\n",
              "\n",
              "    .dataframe tbody tr th {\n",
              "        vertical-align: top;\n",
              "    }\n",
              "\n",
              "    .dataframe thead th {\n",
              "        text-align: right;\n",
              "    }\n",
              "</style>\n",
              "<table border=\"1\" class=\"dataframe\">\n",
              "  <thead>\n",
              "    <tr style=\"text-align: right;\">\n",
              "      <th></th>\n",
              "      <th>ImageId</th>\n",
              "      <th>Label</th>\n",
              "    </tr>\n",
              "  </thead>\n",
              "  <tbody>\n",
              "    <tr>\n",
              "      <th>0</th>\n",
              "      <td>1</td>\n",
              "      <td>2</td>\n",
              "    </tr>\n",
              "    <tr>\n",
              "      <th>1</th>\n",
              "      <td>2</td>\n",
              "      <td>0</td>\n",
              "    </tr>\n",
              "    <tr>\n",
              "      <th>2</th>\n",
              "      <td>3</td>\n",
              "      <td>9</td>\n",
              "    </tr>\n",
              "    <tr>\n",
              "      <th>3</th>\n",
              "      <td>4</td>\n",
              "      <td>0</td>\n",
              "    </tr>\n",
              "    <tr>\n",
              "      <th>4</th>\n",
              "      <td>5</td>\n",
              "      <td>3</td>\n",
              "    </tr>\n",
              "  </tbody>\n",
              "</table>\n",
              "</div>\n",
              "      <button class=\"colab-df-convert\" onclick=\"convertToInteractive('df-af8d2ed2-8e35-497c-957f-32e250ecdc93')\"\n",
              "              title=\"Convert this dataframe to an interactive table.\"\n",
              "              style=\"display:none;\">\n",
              "        \n",
              "  <svg xmlns=\"http://www.w3.org/2000/svg\" height=\"24px\"viewBox=\"0 0 24 24\"\n",
              "       width=\"24px\">\n",
              "    <path d=\"M0 0h24v24H0V0z\" fill=\"none\"/>\n",
              "    <path d=\"M18.56 5.44l.94 2.06.94-2.06 2.06-.94-2.06-.94-.94-2.06-.94 2.06-2.06.94zm-11 1L8.5 8.5l.94-2.06 2.06-.94-2.06-.94L8.5 2.5l-.94 2.06-2.06.94zm10 10l.94 2.06.94-2.06 2.06-.94-2.06-.94-.94-2.06-.94 2.06-2.06.94z\"/><path d=\"M17.41 7.96l-1.37-1.37c-.4-.4-.92-.59-1.43-.59-.52 0-1.04.2-1.43.59L10.3 9.45l-7.72 7.72c-.78.78-.78 2.05 0 2.83L4 21.41c.39.39.9.59 1.41.59.51 0 1.02-.2 1.41-.59l7.78-7.78 2.81-2.81c.8-.78.8-2.07 0-2.86zM5.41 20L4 18.59l7.72-7.72 1.47 1.35L5.41 20z\"/>\n",
              "  </svg>\n",
              "      </button>\n",
              "      \n",
              "  <style>\n",
              "    .colab-df-container {\n",
              "      display:flex;\n",
              "      flex-wrap:wrap;\n",
              "      gap: 12px;\n",
              "    }\n",
              "\n",
              "    .colab-df-convert {\n",
              "      background-color: #E8F0FE;\n",
              "      border: none;\n",
              "      border-radius: 50%;\n",
              "      cursor: pointer;\n",
              "      display: none;\n",
              "      fill: #1967D2;\n",
              "      height: 32px;\n",
              "      padding: 0 0 0 0;\n",
              "      width: 32px;\n",
              "    }\n",
              "\n",
              "    .colab-df-convert:hover {\n",
              "      background-color: #E2EBFA;\n",
              "      box-shadow: 0px 1px 2px rgba(60, 64, 67, 0.3), 0px 1px 3px 1px rgba(60, 64, 67, 0.15);\n",
              "      fill: #174EA6;\n",
              "    }\n",
              "\n",
              "    [theme=dark] .colab-df-convert {\n",
              "      background-color: #3B4455;\n",
              "      fill: #D2E3FC;\n",
              "    }\n",
              "\n",
              "    [theme=dark] .colab-df-convert:hover {\n",
              "      background-color: #434B5C;\n",
              "      box-shadow: 0px 1px 3px 1px rgba(0, 0, 0, 0.15);\n",
              "      filter: drop-shadow(0px 1px 2px rgba(0, 0, 0, 0.3));\n",
              "      fill: #FFFFFF;\n",
              "    }\n",
              "  </style>\n",
              "\n",
              "      <script>\n",
              "        const buttonEl =\n",
              "          document.querySelector('#df-af8d2ed2-8e35-497c-957f-32e250ecdc93 button.colab-df-convert');\n",
              "        buttonEl.style.display =\n",
              "          google.colab.kernel.accessAllowed ? 'block' : 'none';\n",
              "\n",
              "        async function convertToInteractive(key) {\n",
              "          const element = document.querySelector('#df-af8d2ed2-8e35-497c-957f-32e250ecdc93');\n",
              "          const dataTable =\n",
              "            await google.colab.kernel.invokeFunction('convertToInteractive',\n",
              "                                                     [key], {});\n",
              "          if (!dataTable) return;\n",
              "\n",
              "          const docLinkHtml = 'Like what you see? Visit the ' +\n",
              "            '<a target=\"_blank\" href=https://colab.research.google.com/notebooks/data_table.ipynb>data table notebook</a>'\n",
              "            + ' to learn more about interactive tables.';\n",
              "          element.innerHTML = '';\n",
              "          dataTable['output_type'] = 'display_data';\n",
              "          await google.colab.output.renderOutput(dataTable, element);\n",
              "          const docLink = document.createElement('div');\n",
              "          docLink.innerHTML = docLinkHtml;\n",
              "          element.appendChild(docLink);\n",
              "        }\n",
              "      </script>\n",
              "    </div>\n",
              "  </div>\n",
              "  "
            ]
          },
          "metadata": {},
          "execution_count": 99
        }
      ]
    },
    {
      "cell_type": "code",
      "source": [
        "!kaggle competitions submit -c digit-recognizer -f CNN_prediction_v7.csv -m \"CNN with tenserflow v6 with Batch Normalization, maxpolling2D and data augmentation, adding Dropout\""
      ],
      "metadata": {
        "colab": {
          "base_uri": "https://localhost:8080/"
        },
        "id": "GOiJhBHyyCvm",
        "outputId": "89e6be60-f0e7-417e-8db8-85fa0bdf7a9f"
      },
      "execution_count": null,
      "outputs": [
        {
          "output_type": "stream",
          "name": "stdout",
          "text": [
            "100% 208k/208k [00:03<00:00, 58.9kB/s]\n",
            "Successfully submitted to Digit Recognizer"
          ]
        }
      ]
    }
  ]
}